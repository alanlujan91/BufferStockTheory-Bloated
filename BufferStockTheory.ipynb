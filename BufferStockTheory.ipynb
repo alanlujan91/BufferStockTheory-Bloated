{
 "cells": [
  {
   "cell_type": "markdown",
   "id": "7763d67e",
   "metadata": {},
   "source": [
    "# Theoretical Foundations of Buffer Stock Saving\n",
    "\n",
    "<cite data-cite=\"6202365/8AH9AXN2\"></cite>\n",
    "\n",
    "\n",
    "[![econ-ark.org](https://img.shields.io/badge/Powered%20by-Econ--ARK-3e8acc.svg)](https://econ-ark.org/materials/BufferStockTheory)\n"
   ]
  },
  {
   "cell_type": "markdown",
   "id": "74ea34a7",
   "metadata": {},
   "source": [
    "<a id='interactive-dashboard'></a>\n",
    "\n",
    "[This notebook](https://econ-ark.org/BufferStockTheory/#launch) uses the [Econ-ARK/HARK](https://github.com/econ-ark/HARK) toolkit to reproduce and illustrate key results of the paper [Theoretical Foundations of Buffer Stock Saving](http://econ-ark.github.io/BufferStockTheory/BufferStockTheory).\n",
    "\n",
    "An [interactive dashboard](https://econ-ark.org/BufferStockStockTheory/#Dashboard) allows you to modify parameters to see how the figures change.\n",
    "\n",
    "- JupyterLab, click on the $\\bullet$$\\bullet$$\\bullet$ patterns to expose the runnable code\n",
    "- in either a Jupyter notebook or JupyterLab, click a double triangle to execute the code and generate the figures"
   ]
  },
  {
   "cell_type": "markdown",
   "id": "77b1d0a9-21ed-4e34-aef8-824579fd9b9c",
   "metadata": {},
   "source": [
    "`# Setup Python Below`"
   ]
  },
  {
   "cell_type": "code",
   "execution_count": 1,
   "id": "c0882558-aecd-4fe3-9458-95cd8420af74",
   "metadata": {
    "jupyter": {
     "source_hidden": true
    },
    "tags": []
   },
   "outputs": [],
   "source": [
    "# This cell does some setup\n",
    "\n",
    "# Import required python packages\n",
    "import logging\n",
    "import numpy as np\n",
    "from copy import deepcopy\n",
    "import warnings\n",
    "\n",
    "# Ignore some harmless but alarming warning messages\n",
    "warnings.filterwarnings(\"ignore\")\n",
    "\n",
    "# Plotting tools\n",
    "import matplotlib.pyplot as plt\n",
    "\n",
    "# Make required tools are installed\n",
    "import os.path\n",
    "import sys\n",
    "import subprocess\n",
    "if os.path.isdir('binder'):  # Folder defining requirements exists\n",
    "    # File requirements.out should be created first time notebook is run\n",
    "    if not os.path.isfile('./binder/requirements.out'):\n",
    "        try:\n",
    "            output = subprocess.check_output(\n",
    "                [sys.executable, '-m', 'pip', 'install','--user','-r','./binder/requirements.txt'],stderr=subprocess.STDOUT) \n",
    "            requirements_out = open(\"./binder/requirements.out\",\"w\")\n",
    "            requirements_out.write(output.decode(\"utf8\"))\n",
    "        except subprocess.CalledProcessError as e:\n",
    "            print(output.decode(\"utf8\"))\n",
    "            print(e.output.decode(\"utf8\"),e.returncode)"
   ]
  },
  {
   "cell_type": "markdown",
   "id": "c6119e5b-b427-4f73-9948-b62e7ef82d45",
   "metadata": {},
   "source": [
    "`# Setup HARK Below`"
   ]
  },
  {
   "cell_type": "code",
   "execution_count": 2,
   "id": "df17f269-518e-4bba-9184-cadfac4a3891",
   "metadata": {
    "jupyter": {
     "source_hidden": true
    },
    "tags": []
   },
   "outputs": [],
   "source": [
    "# Import required HARK tools\n",
    "from HARK import __version__ as HARKversion\n",
    "from HARK.utilities import (\n",
    "    plot_funcs, find_gui, make_figs, determine_platform,\n",
    "    test_latex_installation, setup_latex_env_notebook)\n",
    "from HARK.ConsumptionSaving.ConsIndShockModel import (\n",
    "    PerfForesightConsumerType, IndShockConsumerType, init_perfect_foresight, init_idiosyncratic_shocks)\n",
    "\n",
    "\n",
    "# Whether to save the figures to Figures_dir\n",
    "saveFigs = True\n",
    "\n",
    "# Whether to draw the figures\n",
    "drawFigs = True\n",
    "\n",
    "pf = determine_platform() # latex checking depends on platform\n",
    "try: # test whether latex is installed on command line \n",
    "    latexExists = test_latex_installation(pf)\n",
    "except ImportError:  # windows and MacOS requires manual latex install\n",
    "    latexExists = False\n",
    "\n",
    "setup_latex_env_notebook(pf, latexExists)\n",
    "\n",
    "# check if GUI is present; if not then switch drawFigs to False and force saveFigs to be True\n",
    "if not find_gui():\n",
    "    drawFigs, saveFigs = False, True\n",
    "\n",
    "# Font sizes for figures\n",
    "fssml, fsmid, fsbig = 18, 22, 26\n",
    "\n",
    "def makeFig(figure_name, target_dir=\"./Figures\"):\n",
    "    print('')\n",
    "    make_figs(figure_name, saveFigs, drawFigs, target_dir)\n",
    "    print('')\n",
    "    \n",
    "base_params = deepcopy(init_idiosyncratic_shocks)\n",
    "# Uninteresting housekeeping and details\n",
    "# Make global variables for the things that were lists above \n",
    "PermGroFac, permShkStd, tranShkStd = base_params['PermGroFac'][0], base_params['permShkStd'][0], base_params['tranShkStd'][0]\n",
    "\n",
    "# Some technical settings that are not interesting for our purposes\n",
    "base_params['LivPrb'] = [1.0]   # 100 percent chance of living to next period\n",
    "base_params['BoroCnstArt'] = None    # No artificial borrowing constraint"
   ]
  },
  {
   "cell_type": "markdown",
   "id": "10e54c20",
   "metadata": {
    "tags": []
   },
   "source": [
    "## [The Problem](http://econ-ark.github.io/BufferStockTheory/BufferStockTheory/#The-Problem)\n",
    "\n",
    "The paper defines and calibrates a small set of parameters:\n",
    "\n",
    "\\begin{align}\n",
    " &\n",
    "\\renewcommand{\\APF}{\\pmb{\\unicode[0.55,0.05]{0x00DE}}}\n",
    "\\newcommand{\\PatFac}{\\pmb{\\unicode[0.55,0.05]{0x00DE}}}\n",
    "\\newcommand{\\PatRte}{\\pmb{\\unicode[0.55,0.05]{0x00FE}}}\n",
    "\\newcommand{\\aLev}{\\mathbf{a}}\n",
    "\\newcommand{\\CRRA}{\\rho}\n",
    "\\newcommand{\\cLev}{{\\mathbf{c}}}\n",
    "\\newcommand{\\aNrm}{{a}}\n",
    "\\newcommand{\\bNrm}{{b}}\n",
    "\\newcommand{\\cNrm}{{c}}\n",
    "\\newcommand{\\dNrm}{{d}}\n",
    "\\newcommand{\\hNrm}{{h}}\n",
    "\\newcommand{\\mNrm}{{m}}\n",
    "\\newcommand{\\vNrm}{{v}}\n",
    "\\newcommand{\\aLev}{{\\mathbf{a}}}\n",
    "\\newcommand{\\bLev}{{\\mathbf{b}}}\n",
    "\\newcommand{\\cLev}{{\\mathbf{c}}}\n",
    "\\newcommand{\\dLev}{{\\mathbf{d}}}\n",
    "\\newcommand{\\hLev}{{\\mathbf{h}}}\n",
    "\\newcommand{\\mLev}{{\\mathbf{m}}}\n",
    "\\newcommand{\\pLev}{{\\mathbf{p}}}\n",
    "\\newcommand{\\vLev}{{\\mathbf{v}}}\n",
    "\\newcommand{\\cFunc}{\\mathrm{c}}\n",
    "\\newcommand{\\uFunc}{\\mathrm{u}}\n",
    "\\newcommand{\\RNrm}{\\mathcal{R}}\n",
    "\\newcommand{\\DiscFac}{\\beta}\n",
    "\\newcommand{\\Ex}{\\mathbb{E}}\n",
    "\\newcommand{\\IncUnemp}{\\mu}\n",
    "\\newcommand{\\MPC}{\\kappa}\n",
    "\\newcommand{\\PermGroFac}{\\Gamma}\n",
    "\\newcommand{\\PermGroFacAdj}{\\tilde{\\Gamma}}\n",
    "\\newcommand{\\PermShkStd}{\\sigma_\\Psi}\n",
    "\\newcommand{\\permShkStd}{\\sigma_\\psi}\n",
    "\\newcommand{\\PermShk}{\\Psi} % New\n",
    "\\newcommand{\\permShk}{\\psi} % New\n",
    "\\newcommand{\\Rfree}{\\mathsf{R}}\n",
    "\\newcommand{\\Trg}{\\hat}\n",
    "\\newcommand{\\StE}{\\check}\n",
    "\\newcommand{\\Thorn}{\\pmb{\\TH}}\n",
    "\\newcommand{\\TranShkStd}{\\sigma_\\Theta}\n",
    "\\newcommand{\\TranShk}{\\Theta}\n",
    "\\newcommand{\\tranShk}{\\theta}\n",
    "\\newcommand{\\tranShkStd}{\\sigma_{\\theta}}\n",
    "\\newcommand{\\UnempPrb}{\\wp}\n",
    "\\newcommand\\maththorn{\\mathord{\\pmb{\\text{\\TH}}}}\n",
    "\\end{align}\n",
    "\n",
    "| Parameter | Description | Python Variable | Value |\n",
    "|:---:      | :---:       | :---:  | :---: |\n",
    "| $\\PermGroFac$ | Permanent Income Growth Factor | $\\texttt{PermGroFac}$ | 1.03 |\n",
    "| $\\Rfree$ | Interest Factor | $\\texttt{Rfree}$ | 1.04 |\n",
    "| $\\DiscFac$ | Time Preference Factor | $\\texttt{DiscFac}$ | 0.96 |\n",
    "| $\\CRRA$ | Coeﬃcient of Relative Risk Aversion| $\\texttt{CRRA}$ | 2 |\n",
    "| $\\UnempPrb$ | Probability of Unemployment | $\\texttt{UnempPrb}$ | 0.005 |\n",
    "| $\\tranShk^{\\large u}$ | Income when Unemployed | $\\texttt{IncUnemp}$ | 0. |\n",
    "| $\\permShkStd$ | Std Dev of Log Permanent Shock| $\\texttt{PermShkStd}$ | 0.1 |\n",
    "| $\\TranShkStd$ | Std Dev of Log Transitory Shock| $\\texttt{TranShkStd}$ | 0.1 |\n",
    "\n",
    "that define the preferences and environment of microeconomic consumers as detailed below.\n",
    "\n",
    "The objective of such a consumer with a horizon of $n$ periods is to maximize the value obtained from the stream of consumption __**c**__ from period $t=T-n$ to a terminal period $T$:\n",
    "\n",
    "\\begin{equation}\n",
    "\\mathbf{v}_{t} = \\sum_{i=0}^{n} \\DiscFac^{n}\\mathrm{u}(\\mathbf{c}_{t+n})\n",
    "\\end{equation}\n",
    "\n",
    "The infinite-horizon solution is the limit of the first period solution $\\mathrm{c}_{T-n}$ as the horizon $n$ goes to infinity."
   ]
  },
  {
   "cell_type": "markdown",
   "id": "a967a304",
   "metadata": {
    "tags": []
   },
   "source": [
    "### Details\n",
    "For a microeconomic consumer who begins period $t$ with __**m**__arket resources boldface $\\mLev_{t}$ (=net worth plus current income), the amount that remains after __**c**__onsumption of $\\cLev_{t}$ will be end-of-period __**a**__ssets $\\aLev_{t}$,\n",
    "\n",
    "<!-- Next period's 'Balances' $B_{t+1}$ reflect this period's $\\aLev_{t}$ augmented by return factor $R$:-->"
   ]
  },
  {
   "cell_type": "markdown",
   "id": "14293b11",
   "metadata": {},
   "source": [
    "\\begin{eqnarray}\n",
    "\\aLev_{t}   &=&\\mLev_{t}-\\cLev_{t}. \\notag\n",
    "\\end{eqnarray}\n",
    "\n",
    "The consumer's __**p**__ermanent noncapital income $\\pLev$ grows by a predictable factor $\\PermGroFac$ and is subject to an unpredictable multiplicative shock $\\Ex_{t}[\\permShk_{t+1}]=1$,\n",
    "\n",
    "\\begin{eqnarray}\n",
    "\\pLev_{t+1} & = & \\pLev_{t} \\PermGroFac \\permShk_{t+1}, \\notag\n",
    "\\end{eqnarray}\n",
    "\n",
    "and, if the consumer is employed, actual income is permanent income multiplied by a transitory shock $\\tranShk^{\\large e}$.  There is also a probability $\\UnempPrb$ that the consumer will be temporarily unemployed and experience income of $\\tranShk^{\\large u}  = 0$.  We construct $\\tranShk^{\\large e}$ so that its mean value is $1/(1-\\UnempPrb)$ because in that case the mean level of the transitory shock (accounting for both unemployed and employed states) is exactly\n",
    "\n",
    "\\begin{eqnarray}\n",
    "\\Ex_{t}[\\tranShk_{t+1}] & = & \\tranShk^{\\large{u}}  \\times \\UnempPrb + (1-\\UnempPrb) \\times \\Ex_{t}[\\tranShk^{\\large{e}}_{t+1}] \\notag\n",
    "\\\\ & = & 0 \\times \\UnempPrb + (1-\\UnempPrb) \\times 1/(1-\\UnempPrb)  \\notag\n",
    "\\\\ & = & 1. \\notag\n",
    "\\end{eqnarray}\n",
    "\n",
    "  We can combine the unemployment shock $\\tranShk^{\\large u}$ and the transitory shock to employment income $\\tranShk^{\\large e}$ into $\\tranShk _{t+1}$, so that next period's market resources are\n",
    "\\begin{eqnarray}\n",
    "    \\mLev_{t+1} &=& \\aLev_{t}\\Rfree +\\pLev_{t+1}\\tranShk_{t+1}.  \\notag\n",
    "\\end{eqnarray}"
   ]
  },
  {
   "cell_type": "markdown",
   "id": "b4e878c3",
   "metadata": {},
   "source": [
    "When the consumer has a CRRA utility function $u(\\cLev)=\\frac{\\cLev^{1-\\CRRA}}{1-\\CRRA}$, the paper shows that the problem can be written in terms of ratios (nonbold font) of level (bold font) variables to permanent income, e.g. $m_{t} \\equiv \\mLev_{t}/\\pLev_{t}$, and the Bellman form of [the problem reduces to](https://econ-ark.github.io/BufferStockTheory/#The-Related-Problem):\n",
    "\n",
    "\\begin{eqnarray*}\n",
    "v_t(m_t) &=& \\max_{c_t}~~ u(c_t) + \\DiscFac~\\Ex_{t} [(\\PermGroFac\\permShk_{t+1})^{1-\\CRRA} v_{t+1}(m_{t+1}) ] \\\\\n",
    "& s.t. & \\\\\n",
    "a_t &=& m_t - c_t \\\\\n",
    "m_{t+1} &=& a_t \\Rfree/(\\PermGroFac \\permShk_{t+1}) + \\tranShk_{t+1} \\\\\n",
    "\\end{eqnarray*}"
   ]
  },
  {
   "cell_type": "code",
   "execution_count": 3,
   "id": "f94598f9",
   "metadata": {
    "jupyter": {
     "source_hidden": true
    },
    "lines_to_next_cell": 0,
    "tags": []
   },
   "outputs": [],
   "source": [
    "# Set the parameters for the baseline results in the paper\n",
    "base_params['PermGroFac'] = [1.03]  # Permanent income growth factor\n",
    "base_params['Rfree'] = Rfree = 1.04  # Interest factor on assets\n",
    "base_params['DiscFac'] = DiscFac = 0.96  # Time Preference Factor\n",
    "base_params['CRRA'] = CRRA = 2.00  # Coefficient of relative risk aversion\n",
    "# Probability of unemployment (e.g. Probability of Zero Income in the paper)\n",
    "base_params['UnempPrb'] = UnempPrb = 0.005\n",
    "base_params['IncUnemp'] = IncUnemp = 0.0   # Induces natural borrowing constraint\n",
    "base_params['permShkStd'] = [0.1]   # Standard deviation of log permanent income shocks\n",
    "base_params['tranShkStd'] = [0.1]   # Standard deviation of log transitory income shocks"
   ]
  },
  {
   "cell_type": "markdown",
   "id": "6c471a9d",
   "metadata": {},
   "source": [
    "## Convergence of the Consumption Rules\n",
    "\n",
    "Under the given parameter values, [the paper's first figure](https://econ-ark.github.io/BufferStockTheory/#Convergence-of-the-Consumption-Rules) depicts the successive consumption rules that apply in the last period of life $(c_{T}(m))$, the second-to-last period, and earlier periods $(c_{T-n})$.  The consumption function to which these converge is $c(m)$:\n",
    "\n",
    "\\begin{equation}\n",
    "c(m) = \\lim_{n \\uparrow \\infty} c_{T-n}(m) \\notag\n",
    "\\end{equation}"
   ]
  },
  {
   "cell_type": "markdown",
   "id": "6bc39910-145c-4825-86dc-4c39faf098ea",
   "metadata": {},
   "source": [
    "`# Create a buffer stock consumer instance:`"
   ]
  },
  {
   "cell_type": "code",
   "execution_count": 4,
   "id": "b3bb8a51",
   "metadata": {
    "jupyter": {
     "source_hidden": true
    },
    "lines_to_next_cell": 2,
    "tags": []
   },
   "outputs": [],
   "source": [
    "# Create a buffer stock consumer instance by invoking the IndShockConsumerType class\n",
    "# with the parameter dictionary \"base_params\"\n",
    "\n",
    "base_params['cycles'] = 100  # periods to solve from end\n",
    "# Construct finite horizon agent with baseline parameters\n",
    "baseAgent_Fin = \\\n",
    "    IndShockConsumerType(**base_params,\n",
    "                         quietly=True)  # Don't say anything during setup\n",
    "\n",
    "baseAgent_Fin.solve(quietly=True)  # Solve the model quietly\n",
    "\n",
    "baseAgent_Fin.unpack('cFunc')  # Retrieve consumption functions\n",
    "cFunc = baseAgent_Fin.cFunc    # Shorthand"
   ]
  },
  {
   "cell_type": "markdown",
   "id": "e1776191-5d1a-4fc6-8033-d9cc4ac39984",
   "metadata": {},
   "source": [
    "`# Plot the consumption rules:`"
   ]
  },
  {
   "cell_type": "code",
   "execution_count": 5,
   "id": "920b606e",
   "metadata": {
    "jupyter": {
     "source_hidden": true
    },
    "tags": []
   },
   "outputs": [
    {
     "name": "stdout",
     "output_type": "stream",
     "text": [
      "\n",
      "Saving figure cFuncsConverge in ./Figures\n"
     ]
    },
    {
     "data": {
      "image/png": "[encoded data removed]",
      "text/plain": [
       "<Figure size 864x648 with 1 Axes>"
      ]
     },
     "metadata": {},
     "output_type": "display_data"
    },
    {
     "name": "stdout",
     "output_type": "stream",
     "text": [
      "\n"
     ]
    }
   ],
   "source": [
    "# Plot the different consumption rules for the different periods\n",
    "\n",
    "mPlotMin = 0\n",
    "mLocCLabels = 9.6  # Defines horizontal limit of figure\n",
    "mPlotTop = 6.5    # Defines maximum m value where functions are plotted\n",
    "mPts = 1000      # Number of points at which functions are evaluated\n",
    "\n",
    "mBelwLabels = np.linspace(mPlotMin, mLocCLabels-0.1, mPts)  # Range of m below loc of labels\n",
    "m_FullRange = np.linspace(mPlotMin, mPlotTop, mPts)        # Full plot range\n",
    "# c_Tm0  defines the last period consumption rule (c=m)\n",
    "\n",
    "T = -1  # Solution in the last period\n",
    "c_Tm0 = m_FullRange\n",
    "# c_Tm1 defines the second-to-last period consumption rule\n",
    "c_Tm1 = cFunc[T-1](mBelwLabels)\n",
    "c_Tm5 = cFunc[T-5](mBelwLabels)  # c_Tm5 defines the T-5 period consumption rule\n",
    "c_Tm10 = cFunc[T-10](mBelwLabels)  # c_Tm10 defines the T-10 period consumption rule\n",
    "# c_Limt defines limiting inﬁnite-horizon consumption rule\n",
    "c_Limt = baseAgent_Fin.cFunc[0](mBelwLabels)\n",
    "\n",
    "plt.figure(figsize=(12, 9))\n",
    "plt.rcParams['font.size'], plt.rcParams['font.weight'] = fsmid, 'bold'\n",
    "\n",
    "xMin, xMax = 0, 11\n",
    "yMin, yMax = 0, 7\n",
    "plt.xlim(xMin, xMax)\n",
    "plt.ylim(yMin, yMax)\n",
    "\n",
    "plt.plot(mBelwLabels, c_Limt, color='black')\n",
    "plt.plot(mBelwLabels, c_Tm1, color='black')\n",
    "plt.plot(mBelwLabels, c_Tm5, color='black')\n",
    "plt.plot(mBelwLabels, c_Tm10, color='black')\n",
    "plt.plot(m_FullRange, c_Tm0, color='black')\n",
    "plt.text(yMax, yMax-1    , r'$c_{T   }(m) = 45$ degree line')\n",
    "#plt.text(yMax, yMax-1    , r'$c_{T   }(m) = 45 \\mathfrak{Fraktur}\\;\\mathbf{\\mathfrak{Fraktur}}$')\n",
    "plt.text(mLocCLabels, 5.3, r'$c_{T-1 }(m)$')\n",
    "plt.text(mLocCLabels, 2.6, r'$c_{T-5 }(m)$')\n",
    "plt.text(mLocCLabels, 2.1, r'$c_{T-10}(m)$')\n",
    "plt.text(mLocCLabels, 1.7, r'$c(m)       $')\n",
    "plt.arrow(6.9, 6.05, -0.6, 0, head_width=0.1, width=0.001,\n",
    "          facecolor='black', length_includes_head='True')\n",
    "plt.tick_params(labelbottom=False, labelleft=False, left='off',\n",
    "                right='off', bottom='off', top='off')\n",
    "plt.text(0, 7.05, \"$c$\", fontsize=fsbig)\n",
    "plt.text(xMax+0.1, 0, \"$m$\", fontsize=fsbig)\n",
    "\n",
    "# Save the figure\n",
    "\n",
    "makeFig('cFuncsConverge')  # Comment out if you want to run uninterrupted"
   ]
  },
  {
   "cell_type": "markdown",
   "id": "b19af167",
   "metadata": {
    "slideshow": {
     "slide_type": "slide"
    }
   },
   "source": [
    "Use the [interactive dashboard](#interactive-dashboard) to explore the effects of changes in patience, risk aversion, or risk"
   ]
  },
  {
   "cell_type": "markdown",
   "id": "121d2369",
   "metadata": {
    "tags": []
   },
   "source": [
    "## Factors and Conditions\n",
    "\n",
    "### [The Finite Human Wealth Condition](http://econ-ark.github.io/BufferStockTheory/#Human-Wealth)\n",
    "\n",
    "Human wealth for a perfect foresight consumer is the present discounted value of future income:\n",
    "\n",
    "\\begin{eqnarray}\\notag\n",
    "\\hLev_{t} & = & \\Ex_{t}[\\pLev_{t} + \\Rfree^{-1} \\pLev_{t+1} + \\Rfree^{2} \\pLev_{t+2} ... ] \\\\ \\notag\n",
    "      & = & \\pLev_{t} \\left(1 + (\\PermGroFac/\\Rfree) + (\\PermGroFac/\\Rfree)^{2} ... \\right)\n",
    "\\end{eqnarray}\n",
    "\n",
    "which approaches infinity as the horizon extends if $\\PermGroFac/\\Rfree \\geq 1$.  We say that the 'Finite Human Wealth Condition' [(FHWC)](https://econ-ark.github.io/BufferStockTheory/#FHWC) holds if\n",
    "$0 \\leq (\\PermGroFac/\\Rfree) < 1$."
   ]
  },
  {
   "cell_type": "markdown",
   "id": "76c98591",
   "metadata": {
    "tags": []
   },
   "source": [
    "### [Absolute Patience and the AIC](https://econ-ark.github.io/BufferStockTheory/#AIC)\n",
    "\n",
    "The paper defines the Absolute Patience Factor [(APF)](https://econ-ark.github.io/BufferStockTheory/#APF) as being equal to the ratio $\\cLev_{t+1}/\\cLev_{t}$ for a perfect foresight consumer.  (The Old English character Thorn used for this object in the paper cannot reliably be rendered in Jupyter notebooks; it may appear as capital Phi):\n",
    "\n",
    "\\begin{equation}\n",
    "\\PatFac = (\\Rfree \\DiscFac)^{1/\\CRRA}\n",
    "\\end{equation}\n",
    "\n",
    "If $\\APF = 1$, a perfect foresight consumer will spend at exactly the level of $\\cLev$ that can be sustained perpetually (given their current and future resources).  If $\\APF < 1$ (the consumer is 'absolutely impatient'; or, 'the absolute impatience condition holds'), the consumer is consuming more than the sustainable amount, so consumption will fall, and if the consumer is 'absolutely patient' with $\\APF > 1$ consumption will grow over time.\n",
    "\n"
   ]
  },
  {
   "cell_type": "markdown",
   "id": "75778195",
   "metadata": {},
   "source": [
    "### [Growth Patience and the GICRaw](https://econ-ark.github.io/BufferStockTheory/#GIC)\n",
    "\n",
    "For a [perfect foresight consumer](https://www.econ2.jhu.edu/people/ccarroll/public/lecturenotes/consumption/PerfForesightCRRA), whether the ratio $c$=__**c**__/__**p**__ is rising, constant, or falling depends on the relative growth rates of consumption and permanent income; that ratio is measured by the [Perfect Foresight Growth Patience Factor](https://econ-ark.github.io/BufferStockTheory/#PFGPF):\n",
    "\n",
    "\\begin{eqnarray}\n",
    "\\APF_{\\PermGroFac} & = & \\APF/\\PermGroFac\n",
    "\\end{eqnarray}\n",
    "and whether the $c$ is falling or rising over time depends on whether $\\APF_{\\PermGroFac}$ is below or above 1.\n",
    "\n",
    "An analogous condition can be defined when there is uncertainty about permanent income.  Defining $\\tilde{\\PermGroFac} = (\\Ex[\\permShk^{-1}])^{-1}\\PermGroFac$, the\n",
    "['Growth Impatience Condition'](https://econ-ark.github.io/BufferStockTheory/#GIC) determines whether, _in expectation_, the stochastic value of $c$ is rising, constant, or falling over time:\n",
    "\n",
    "\\begin{eqnarray}\n",
    "  \\APF/\\tilde{\\PermGroFac} & < & 1.\n",
    "\\end{eqnarray}\n",
    "\n",
    "### [The Finite Value of Autarky Condition (FVAC)](https://econ-ark.github.io/BufferStockTheory/#Autarky-Value)"
   ]
  },
  {
   "cell_type": "markdown",
   "id": "bdde8736",
   "metadata": {},
   "source": [
    "The paper [shows](https://econ-ark.github.io/BufferStockTheory/#Autarky-Value) that a consumer who planned to spend his permanent income $\\{ \\pLev_{t}, \\pLev_{t+1}, ...\\} $ in every period would have value defined by\n",
    "\n",
    "\\begin{equation*}\n",
    "\\vLev_{t}^{\\text{autarky}} = \\uFunc(\\pLev_{t})\\left(\\frac{1}{1-\\DiscFac \\PermGroFac^{1-\\CRRA} \\Ex[\\permShk^{1-\\CRRA}]}\\right)\n",
    "\\end{equation*}\n",
    "\n",
    "and defines the ['Finite Value of Autarky Condition'](https://econ-ark.github.io/BufferStockTheory/#Autarky-Value) as the requirement that the denominator be a positive finite number:\n",
    "\n",
    "\\begin{equation*}\n",
    "\\DiscFac \\PermGroFac^{1-\\CRRA} \\Ex[\\permShk^{1-\\CRRA}] < 1\n",
    "\\end{equation*}"
   ]
  },
  {
   "cell_type": "markdown",
   "id": "cd457109",
   "metadata": {},
   "source": [
    "### [The Weak Return Impatience Condition (WRIC)](https://econ-ark.github.io/BufferStockTheory/#WRIC)\n",
    "\n",
    "The [Return Impatience Condition](https://econ-ark.github.io/BufferStockTheory/#RIC) $\\APF/\\Rfree < 1$ has long been understood to be required for the perfect foresight model to have a nondegenerate solution (a common special case is when $\\CRRA=1$; in this case $\\APF = \\Rfree \\DiscFac$ so $\\APF<1$ reduces to the familiar condition $\\DiscFac < \\Rfree$).\n",
    "\n",
    "If the RIC does not hold, the consumer is so patient that the optimal consumption function approaches zero as the horizon extends indefinitely.\n",
    "\n",
    "When the probability of unemployment is $\\UnempPrb$, the paper articulates an analogous (but weaker) condition:\n",
    "\n",
    "\\begin{eqnarray}\n",
    " \\UnempPrb^{1/\\CRRA} \\APF/\\Rfree & < & 1\n",
    "\\end{eqnarray}"
   ]
  },
  {
   "cell_type": "markdown",
   "id": "321771cb",
   "metadata": {},
   "source": [
    "# Key Results\n",
    "\n",
    "## [Nondegenerate Solution Requires FVAC and WRIC](https://econ-ark.github.io/BufferStockTheory/#Sufficient-Conditions-For-Nondegenerate-Solution)\n",
    "\n",
    "A main result of the paper is that the conditions required for the model to have a nondegenerate limiting solution ($0 < c(m) < \\infty$ for feasible $m$) are that the Finite Value of Autarky (FVAC) and Weak Return Impatience Condition (WRIC) hold."
   ]
  },
  {
   "cell_type": "markdown",
   "id": "b9efe13e",
   "metadata": {},
   "source": [
    "## [Natural Borrowing Constraint limits to Artificial Borrowing Constraint](https://econ-ark.github.io/BufferStockTheory/#The-Liquidity-Constrained-Solution-as-a-Limit)"
   ]
  },
  {
   "cell_type": "markdown",
   "id": "654c26df",
   "metadata": {},
   "source": [
    "Defining $\\chi(\\UnempPrb)$ as the consumption function associated with any particular probability of a zero-income shock $\\UnempPrb$, and defining $\\hat{\\chi}$ as the consumption function that would apply in the absence of the transitory zero-income shocks but in the presence of an 'artificial' borrowing constraint requiring $a \\geq 0$ (_a la_ Deaton (1991)), the paper shows that\n",
    "\n",
    "\\begin{eqnarray}\n",
    "\\lim_{\\UnempPrb \\downarrow 0}~\\chi(\\UnempPrb) & = & \\hat{\\chi}\n",
    "\\end{eqnarray}\n",
    "\n",
    "That is, as $\\UnempPrb$ approaches zero the problem with uncertainty becomes identical to the problem that instead has constraints.  (See [Precautionary Saving and Liquidity Constraints](https://econ-ark.github.io/LiqConstr) for a full treatment of the relationship between precautionary saving and liquidity constraints)."
   ]
  },
  {
   "cell_type": "markdown",
   "id": "d4d8bc61",
   "metadata": {},
   "source": [
    "## [$\\cFunc(m)$ can be Finite Even When Human Wealth Is Infinite](https://econ-ark.github.io/BufferStockTheory/#When-The-GICRaw-Fails)\n",
    "\n",
    "In the perfect foresight model, if $\\Rfree < \\PermGroFac$ the PDV of future labor income approaches infinity as the horizon extends and so the limiting consumption function is $c(m) = \\infty$ for all $m$.  Many models have no well-defined limiting solution when human wealth is infinite.\n",
    "\n",
    "The presence of uncertainty changes this: Even when limiting human wealth is infinite, the limiting consumption function is finite for all values of $m$.\n",
    "\n",
    "This is because uncertainty imposes a \"natural borrowing constraint\" that deters the consumer from borrowing against their unbounded (but uncertain) future labor income."
   ]
  },
  {
   "cell_type": "markdown",
   "id": "d818e116",
   "metadata": {},
   "source": [
    "A [table](https://econ-ark.github.io/BufferStockTheory/#Sufficient-Conditions-For-Nondegenerate-Solution) puts this result in the context of implications of other conditions and restrictions.\n",
    "\n"
   ]
  },
  {
   "cell_type": "markdown",
   "id": "5cb1674c",
   "metadata": {},
   "source": [
    "## [Unique and Stable Values of $\\mNrm$](https://econ-ark.github.io/BufferStockTheory/#Unique-Stable-Points)\n",
    "\n",
    "Assuming that the **FVAC** and **WRIC** hold so that the problem has a nondegenerate solution, under more stringent conditions its dynamics can also be shown to exhibit certain kinds of stability.  Two particularly useful kinds of stability are existence of a 'target' value of market resources $\\Trg{\\mNrm}$ and a 'pseudo-steady-state' value $\\StE{\\mNrm}$.\n",
    "\n",
    "### [If the GIC-Nrm Holds, $\\exists$ a finite 'target' $\\mNrm$](https://econ-ark.github.io/BufferStockTheory/#onetarget)\n",
    "\n",
    "Section [Individual Target Wealth](https://econ-ark.github.io/BufferStockTheory/#onetarget) shows that, under parameter values for which the limiting consumption function exists, if the [GICNrm](https://econ-ark.github.io/BufferStockTheory/#GICNrm) holds then there will be a value $\\Trg{m}$ such that:\n",
    "\n",
    "\\begin{eqnarray*}\n",
    "\\Ex[m_{t+1}] & > & m_{t}~\\text{if $m_{t} < \\Trg{m}$} \\\\\n",
    "\\Ex[m_{t+1}] & < & m_{t}~\\text{if $m_{t} > \\Trg{m}$} \\\\\n",
    "\\Ex[m_{t+1}] & = & m_{t}~\\text{if $m_{t} = \\Trg{m}$}\n",
    "\\end{eqnarray*}\n",
    "\n",
    "[An equation](https://econ-ark.github.io/BufferStockTheory/#mTargImplicit) in the paper tells us that, for the expected normalized interest factor $\\bar{\\RNrm}=\\mathbb{E}[\\Rfree/(\\PermGroFac \\PermShk)]$, if $\\mNrm_{t}=\\Trg{m}$ then:\n",
    "\n",
    "\\begin{align}\n",
    "(\\Trg{\\mNrm}-\\cFunc(\\Trg{\\mNrm}))\\bar{\\RNrm}+1 & = \\Trg{\\mNrm}\n",
    "%\\\\ \\Trg{\\mNrm}(1-\\bar{\\RNrm}^{-1})+\\bar{\\RNrm}^{-1} & = \\Trg{\\cNrm}\n",
    "%\\\\ \\Trg{\\cNrm} & = \\Trg{\\mNrm} - (\\Trg{\\mNrm} - 1)\\bar{\\RNrm}^{-1}\n",
    "\\end{align}\n",
    "\n",
    "which can be solved numerically for the unique $\\Trg{\\mNrm}$ that satisfies it.\n",
    "\n",
    "### [If the GIC-Raw Holds, $\\exists$ a finite 'pseudo-steady-state' $\\mNrm$](https://econ-ark.github.io/BufferStockTheory/#Collective-Stability)\n",
    "\n",
    "Section [Collective Stability and the Pseudo-Steady-State](https://econ-ark.github.io/BufferStockTheory/#Collective-Stability) shows that, under parameter values for which the limiting consumption function exists, if the **GIC** holds then there will be a value $\\StE{m}$ such that:\n",
    "\n",
    "\\begin{eqnarray*}\n",
    "\\Ex_{t}[\\mLev_{t+1}/\\mLev_{t}] & > & \\PermGroFac~\\text{if $m_{t} < \\StE{m}$} \\\\\n",
    "\\Ex_{t}[\\mLev_{t+1}/\\mLev_{t}] & < & \\PermGroFac~\\text{if $m_{t} > \\StE{m}$} \\\\\n",
    "\\Ex_{t}[\\mLev_{t+1}/\\mLev_{t}] & = & \\PermGroFac~\\text{if $m_{t} = \\StE{m}$}\n",
    "\\end{eqnarray*}\n",
    "\n",
    "[An equation](https://econ-ark.github.io/BufferStockTheory/#balgrostableSolve) in the paper tells us that if $\\mNrm_{t}=\\StE{m}$ then:\n",
    "\n",
    "\\begin{align}\n",
    "(\\StE{\\mNrm}-\\cFunc(\\StE{\\mNrm}))\\RNrm+1 & = \\StE{\\mNrm}\n",
    "\\end{align}\n",
    "\n",
    "which can be solved numerically for the unique $\\StE{\\mNrm}$ that satisfies it.\n",
    "\n",
    "\n",
    "### [Example With Finite Pseudo-Steady-State But Infinite Target Wealth](https://econ-ark.github.io/BufferStockTheory/#GICNrmFailsButGICRawHolds)\n",
    "\n",
    "[A figure](https://econ-ark.github.io/BufferStockTheory/#GICNrmFailsButGICRawHolds) depicts a solution when the **FVAC** (Finite Value of Autarky Condition) and **WRIC** hold (so that the model has a solution), the **GIC** holds, so the model has a pseudo-steady-state $\\StE{\\mNrm}$, but the **GIC-Nrm** fails, so the model does not have an individual target wealth ratio $\\Trg{\\mNrm}$ (or, rather, the target wealth ratio is infinity, as can be seen by the fact that the level of $\\cNrm$ is always below the level that would keep $\\Ex_{t}[\\Delta \\mNrm_{t+1}] = 0$).\n",
    "\n",
    "This example was constructed by quadrupling the variance of the permanent shocks from the baseline parameterization.  The extra precautionary saving induced by increased uncertainty is what pushes the agent into the region without a target wealth ratio."
   ]
  },
  {
   "cell_type": "markdown",
   "id": "504b7c5a-f10a-4685-ab46-1d9bfcfd37fe",
   "metadata": {},
   "source": [
    "`# Create an example consumer instance where the GICNrm fails but the GIC Holds:`"
   ]
  },
  {
   "cell_type": "code",
   "execution_count": 7,
   "id": "4b8c608a",
   "metadata": {
    "collapsed": true,
    "jupyter": {
     "outputs_hidden": true,
     "source_hidden": true
    },
    "lines_to_next_cell": 0,
    "tags": []
   },
   "outputs": [
    {
     "name": "stderr",
     "output_type": "stream",
     "text": [
      "\n",
      "(quietly=False and messaging_level < logging.WARNING, so some model information is provided below):\n",
      "\n",
      "The model has the following parameter values:\n",
      "\n",
      "\tDiscFac: 0.96\n",
      "\tLivPrb: 1.0\n",
      "\tCRRA: 2.0\n",
      "\tRfree: 1.04\n",
      "\tPermGroFac: 1.03\n",
      "\tIncShkDstn: <HARK.distribution.DiscreteDistribution object at 0x7fe99045acd0>\n",
      "\tpermShkDstn: <HARK.distribution.DiscreteDistribution object at 0x7fe990e1b970>\n",
      "\ttranShkDstn: <HARK.distribution.DiscreteDistribution object at 0x7fe970d67370>\n",
      "\tBoroCnstArt: None\n",
      "\tMaxKinks: None\n",
      "\tsolverType: HARK\n",
      "\tsolveMethod: EGM\n",
      "\teventTiming: EOP\n",
      "\thorizon: infinite\n",
      "\targs: ()\n",
      "\n",
      "The model's transition equations are:\n",
      "\n",
      "chosen_to_next_choice step:\n",
      "\tkNrm = aNrm\n",
      "\tRNrm = Rfree / (PermGroFac * permShk)\n",
      "\tbNrm = kNrm * RNrm\n",
      "\tyNrm = tranShk\n",
      "\tmNrm = bNrm + yNrm\n",
      "\n",
      "choice_to_chosen step:\n",
      "\taNrm = mNrm - cNrm\n",
      "\n",
      "\n",
      "Because messaging_level is >= logging.INFO, infinite horizon conditions are reported below:\n",
      "\n",
      "\n",
      "The Absolute Patience Factor, APF=0.99920 satisfies the Absolute Impatience Condition (AIC), APF < 1:\n",
      "    https://econ-ark.github.io/BufferStockTheory/#AIC\n",
      "\n",
      "The Finite Human Wealth Factor, FHWF=0.99038 satisfies the Finite Human Wealth Condition (FHWC), FHWF < 1:\n",
      "    https://econ-ark.github.io/BufferStockTheory/#FHWC\n",
      "\n",
      "The Return Patience Factor, RPF=0.96077 satisfies the Return Impatience Condition (RIC), RPF < 1:\n",
      "    https://econ-ark.github.io/BufferStockTheory/#RPF\n",
      "\n",
      "The Growth Patience Factor, GPF=0.97010 satisfies the Growth Impatience Condition (GIC), GPF < 1:\n",
      "    https://econ-ark.github.io/BufferStockTheory/#GICRaw\n",
      "\n",
      "The Normalized Growth Patience Factor GPFNrm, GPFNrm=1.00697 violates the Normalized Growth Impatience Condition (GICNrm), GPFNrm < 1:\n",
      "    https://econ-ark.github.io/BufferStockTheory/#GICNrm\n",
      "\n",
      "The Normalized Growth Patience Factor GPFNrm, GPFNrm=1.00697 violates the Normalized Growth Impatience Condition (GICNrm), GPFNrm < 1:\n",
      "    https://econ-ark.github.io/BufferStockTheory/#GICNrm\n",
      "    Therefore, a target ratio of individual market resources to individual permanent income does not exist.  \n",
      "\n",
      "\n",
      "The Mortality Adjusted Aggregate Growth Patience Factor, GPFLiv=0.97010 satisfies the Mortality Adjusted Aggregate Growth Impatience Condition (GICLiv):\n",
      "    https://econ-ark.github.io/BufferStockTheory/#GPFLiv\n",
      "\n",
      "The Finite Value of Autarky Factor, FVAF=0.96000 satisfies the Finite Value of Autarky Condition, FVAF < 1:\n",
      "    https://econ-ark.github.io/BufferStockTheory/#FVAC\n"
     ]
    },
    {
     "name": "stdout",
     "output_type": "stream",
     "text": [
      "."
     ]
    }
   ],
   "source": [
    "# GICNrmFailsButGICRawHolds Example\n",
    "\n",
    "base_params['cycles'] = 0  # revert to default of infinite horizon\n",
    "GICNrmFailsButGICRawHolds_params = dict(base_params)\n",
    "\n",
    "# Increase patience by increasing risk\n",
    "GICNrmFailsButGICRawHolds_params['permShkStd'] = [0.2]\n",
    "\n",
    "# Create an agent with these parameters\n",
    "GICNrmFailsButGICRawHolds = \\\n",
    "    IndShockConsumerType(**GICNrmFailsButGICRawHolds_params,\n",
    "                         quietly=False,  # If True, output suppressed\n",
    "                         )"
   ]
  },
  {
   "cell_type": "markdown",
   "id": "22160e07-7ad0-4a3d-ab32-c8fc5b00ff7e",
   "metadata": {},
   "source": [
    "`# Solve that consumer's problem:`"
   ]
  },
  {
   "cell_type": "code",
   "execution_count": 8,
   "id": "93c5c995",
   "metadata": {
    "collapsed": true,
    "jupyter": {
     "outputs_hidden": true,
     "source_hidden": true
    },
    "tags": []
   },
   "outputs": [
    {
     "name": "stderr",
     "output_type": "stream",
     "text": [
      "\n",
      "The Absolute Patience Factor, APF=0.99920 satisfies the Absolute Impatience Condition (AIC), APF < 1:\n",
      "    https://econ-ark.github.io/BufferStockTheory/#AIC\n",
      "\n",
      "    Because the APF < 1,  the absolute amount of consumption is expected to fall over time.  \n",
      "\n",
      "\n",
      "The Finite Human Wealth Factor, FHWF=0.99038 satisfies the Finite Human Wealth Condition (FHWC), FHWF < 1:\n",
      "    https://econ-ark.github.io/BufferStockTheory/#FHWC\n",
      "\n",
      "    Therefore, the limiting consumption function is not c(m)=Infinity.\n",
      "  Human wealth normalized by permanent income is 104.00000.\n",
      "\n",
      "\n",
      "The Return Patience Factor, RPF=0.96077 satisfies the Return Impatience Condition (RIC), RPF < 1:\n",
      "    https://econ-ark.github.io/BufferStockTheory/#RPF\n",
      "\n",
      "    Therefore, the limiting consumption function is not c(m)=0 for all m\n",
      "\n",
      "\n",
      "The Growth Patience Factor, GPF=0.97010 satisfies the Growth Impatience Condition (GIC), GPF < 1:\n",
      "    https://econ-ark.github.io/BufferStockTheory/#GICRaw\n",
      "\n",
      "    Therefore, for a perfect foresight consumer, the ratio of individual wealth to permanent income is expected to fall indefinitely.    \n",
      "\n",
      "\n",
      "The Normalized Growth Patience Factor GPFNrm, GPFNrm=1.00697 violates the Normalized Growth Impatience Condition (GICNrm), GPFNrm < 1:\n",
      "    https://econ-ark.github.io/BufferStockTheory/#GICNrm\n",
      "\n",
      "    Therefore, a target ratio of individual market resources to individual permanent income does not exist.  \n",
      "\n",
      "\n",
      "The Normalized Growth Patience Factor GPFNrm, GPFNrm=1.00697 violates the Normalized Growth Impatience Condition (GICNrm), GPFNrm < 1:\n",
      "    https://econ-ark.github.io/BufferStockTheory/#GICNrm\n",
      "    Therefore, a target ratio of individual market resources to individual permanent income does not exist.  \n",
      "\n",
      "\n",
      "The Mortality Adjusted Aggregate Growth Patience Factor, GPFLiv=0.97010 satisfies the Mortality Adjusted Aggregate Growth Impatience Condition (GICLiv):\n",
      "    https://econ-ark.github.io/BufferStockTheory/#GPFLiv\n",
      "\n",
      "    Therefore, a target level of the ratio of aggregate market resources to aggregate permanent income exists.\n",
      "https://econ-ark.github.io/BufferStockTheory/#GPFLiv\n",
      "\n",
      "\n",
      "The Finite Value of Autarky Factor, FVAF=0.96000 satisfies the Finite Value of Autarky Condition, FVAF < 1:\n",
      "    https://econ-ark.github.io/BufferStockTheory/#FVAC\n",
      "\n",
      "    Therefore, a nondegenerate solution exists if the RIC also holds. (https://econ-ark.github.io/BufferStockTheory/#FVAC)\n",
      "\n",
      "Some parameter has changed since last update.\n",
      "Storing calculated consequences for grid etc.\n"
     ]
    },
    {
     "name": "stdout",
     "output_type": "stream",
     "text": [
      "Finished cycle # 000043 in  0.019987 seconds, solution distance = 1.440e+02\n",
      "Finished cycle # 000044 in  0.033330 seconds, solution distance = 9.008e-02\n",
      "Finished cycle # 000045 in  0.047881 seconds, solution distance = 8.525e-02\n",
      "Finished cycle # 000046 in  0.062431 seconds, solution distance = 8.069e-02\n",
      "Finished cycle # 000047 in  0.077663 seconds, solution distance = 7.639e-02\n",
      "Finished cycle # 000048 in  0.090628 seconds, solution distance = 7.232e-02\n",
      "Finished cycle # 000049 in  0.103901 seconds, solution distance = 6.848e-02\n",
      "Finished cycle # 000050 in  0.117531 seconds, solution distance = 6.485e-02\n",
      "Finished cycle # 000051 in  0.135654 seconds, solution distance = 6.143e-02\n",
      "Finished cycle # 000052 in  0.151494 seconds, solution distance = 5.821e-02\n",
      "Finished cycle # 000053 in  0.167015 seconds, solution distance = 5.517e-02\n",
      "Finished cycle # 000054 in  0.182966 seconds, solution distance = 5.230e-02\n",
      "Finished cycle # 000055 in  0.199903 seconds, solution distance = 4.959e-02\n",
      "Finished cycle # 000056 in  0.214978 seconds, solution distance = 4.704e-02\n",
      "Finished cycle # 000057 in  0.232742 seconds, solution distance = 4.463e-02\n",
      "Finished cycle # 000058 in  0.248543 seconds, solution distance = 4.235e-02\n",
      "Finished cycle # 000059 in  0.264053 seconds, solution distance = 4.020e-02\n",
      "Finished cycle # 000060 in  0.279784 seconds, solution distance = 3.818e-02\n",
      "Finished cycle # 000061 in  0.295494 seconds, solution distance = 3.626e-02\n",
      "Finished cycle # 000062 in  0.311036 seconds, solution distance = 3.445e-02\n",
      "Finished cycle # 000063 in  0.326161 seconds, solution distance = 3.274e-02\n",
      "Finished cycle # 000064 in  0.339225 seconds, solution distance = 3.112e-02\n",
      "Finished cycle # 000065 in  0.352494 seconds, solution distance = 2.959e-02\n",
      "Finished cycle # 000066 in  0.369894 seconds, solution distance = 2.814e-02\n",
      "Finished cycle # 000067 in  0.385035 seconds, solution distance = 2.677e-02\n",
      "Finished cycle # 000068 in  0.398370 seconds, solution distance = 2.547e-02\n",
      "Finished cycle # 000069 in  0.412048 seconds, solution distance = 2.424e-02\n",
      "Finished cycle # 000070 in  0.425350 seconds, solution distance = 2.307e-02\n",
      "Finished cycle # 000071 in  0.439462 seconds, solution distance = 2.197e-02\n",
      "Finished cycle # 000072 in  0.453691 seconds, solution distance = 2.092e-02\n",
      "Finished cycle # 000073 in  0.467161 seconds, solution distance = 1.993e-02\n",
      "Finished cycle # 000074 in  0.480148 seconds, solution distance = 1.898e-02\n",
      "Finished cycle # 000075 in  0.494188 seconds, solution distance = 1.808e-02\n",
      "Finished cycle # 000076 in  0.510733 seconds, solution distance = 1.723e-02\n",
      "Finished cycle # 000077 in  0.524457 seconds, solution distance = 1.642e-02\n",
      "Finished cycle # 000078 in  0.537677 seconds, solution distance = 1.566e-02\n",
      "Finished cycle # 000079 in  0.551210 seconds, solution distance = 1.493e-02\n",
      "Finished cycle # 000080 in  0.564506 seconds, solution distance = 1.423e-02\n",
      "Finished cycle # 000081 in  0.579541 seconds, solution distance = 1.357e-02\n",
      "Finished cycle # 000082 in  0.593592 seconds, solution distance = 1.294e-02\n",
      "Finished cycle # 000083 in  0.606877 seconds, solution distance = 1.234e-02\n",
      "Finished cycle # 000084 in  0.620441 seconds, solution distance = 1.178e-02\n",
      "Finished cycle # 000085 in  0.633431 seconds, solution distance = 1.123e-02\n",
      "Finished cycle # 000086 in  0.648202 seconds, solution distance = 1.072e-02\n",
      "Finished cycle # 000087 in  0.661910 seconds, solution distance = 1.023e-02\n",
      "Finished cycle # 000088 in  0.675362 seconds, solution distance = 9.761e-03\n",
      "Finished cycle # 000089 in  0.688438 seconds, solution distance = 9.316e-03\n",
      "Finished cycle # 000090 in  0.703007 seconds, solution distance = 8.891e-03\n",
      "Finished cycle # 000091 in  0.717149 seconds, solution distance = 8.487e-03\n",
      "Finished cycle # 000092 in  0.729810 seconds, solution distance = 8.102e-03\n",
      "Finished cycle # 000093 in  0.742734 seconds, solution distance = 7.734e-03\n",
      "Finished cycle # 000094 in  0.755719 seconds, solution distance = 7.384e-03\n",
      "Finished cycle # 000095 in  0.768634 seconds, solution distance = 7.050e-03\n",
      "Finished cycle # 000096 in  0.781580 seconds, solution distance = 6.731e-03\n",
      "Finished cycle # 000097 in  0.794762 seconds, solution distance = 6.427e-03\n",
      "Finished cycle # 000098 in  0.807682 seconds, solution distance = 6.137e-03\n",
      "Finished cycle # 000099 in  0.820903 seconds, solution distance = 5.861e-03\n",
      "Finished cycle # 000100 in  0.833985 seconds, solution distance = 5.597e-03\n",
      "Finished cycle # 000101 in  0.846753 seconds, solution distance = 5.345e-03\n",
      "Finished cycle # 000102 in  0.861103 seconds, solution distance = 5.104e-03\n",
      "Finished cycle # 000103 in  0.874945 seconds, solution distance = 4.875e-03\n",
      "Finished cycle # 000104 in  0.888326 seconds, solution distance = 4.656e-03\n",
      "Finished cycle # 000105 in  0.902845 seconds, solution distance = 4.447e-03\n",
      "Finished cycle # 000106 in  0.916072 seconds, solution distance = 4.247e-03\n",
      "Finished cycle # 000107 in  0.930518 seconds, solution distance = 4.056e-03\n",
      "Finished cycle # 000108 in  0.943273 seconds, solution distance = 3.874e-03\n",
      "Finished cycle # 000109 in  0.956102 seconds, solution distance = 3.700e-03\n",
      "Finished cycle # 000110 in  0.969091 seconds, solution distance = 3.534e-03\n",
      "Finished cycle # 000111 in  0.981940 seconds, solution distance = 3.376e-03\n",
      "Finished cycle # 000112 in  0.994605 seconds, solution distance = 3.224e-03\n",
      "Finished cycle # 000113 in  1.006985 seconds, solution distance = 3.079e-03\n",
      "Finished cycle # 000114 in  1.019741 seconds, solution distance = 2.941e-03\n",
      "Finished cycle # 000115 in  1.032506 seconds, solution distance = 2.809e-03\n",
      "Finished cycle # 000116 in  1.045055 seconds, solution distance = 2.683e-03\n",
      "Finished cycle # 000117 in  1.057447 seconds, solution distance = 2.562e-03\n",
      "Finished cycle # 000118 in  1.072398 seconds, solution distance = 2.447e-03\n",
      "Finished cycle # 000119 in  1.087205 seconds, solution distance = 2.337e-03\n",
      "Finished cycle # 000120 in  1.100274 seconds, solution distance = 2.231e-03\n",
      "Finished cycle # 000121 in  1.115500 seconds, solution distance = 2.131e-03\n",
      "Finished cycle # 000122 in  1.129438 seconds, solution distance = 2.035e-03\n",
      "Finished cycle # 000123 in  1.144000 seconds, solution distance = 1.943e-03\n",
      "Finished cycle # 000124 in  1.156928 seconds, solution distance = 1.855e-03\n",
      "Finished cycle # 000125 in  1.169687 seconds, solution distance = 1.771e-03\n",
      "Finished cycle # 000126 in  1.182334 seconds, solution distance = 1.691e-03\n",
      "Finished cycle # 000127 in  1.194653 seconds, solution distance = 1.614e-03\n",
      "Finished cycle # 000128 in  1.207618 seconds, solution distance = 1.541e-03\n",
      "Finished cycle # 000129 in  1.220322 seconds, solution distance = 1.471e-03\n",
      "Finished cycle # 000130 in  1.232735 seconds, solution distance = 1.404e-03\n",
      "Finished cycle # 000131 in  1.245126 seconds, solution distance = 1.340e-03\n",
      "Finished cycle # 000132 in  1.257978 seconds, solution distance = 1.279e-03\n",
      "Finished cycle # 000133 in  1.270471 seconds, solution distance = 1.220e-03\n",
      "Finished cycle # 000134 in  1.284959 seconds, solution distance = 1.164e-03\n",
      "Finished cycle # 000135 in  1.302182 seconds, solution distance = 1.111e-03\n",
      "Finished cycle # 000136 in  1.316465 seconds, solution distance = 1.060e-03\n",
      "Finished cycle # 000137 in  1.331174 seconds, solution distance = 1.011e-03\n",
      "Finished cycle # 000138 in  1.344826 seconds, solution distance = 9.644e-04\n",
      "\n",
      "distance_now < distance_original: True\n",
      "................................................................................................................................."
     ]
    },
    {
     "name": "stderr",
     "output_type": "stream",
     "text": [
      "\n",
      "(quietly=False and messaging_level < logging.WARNING, so some model information is provided below):\n",
      "\n",
      "The model has the following parameter values:\n",
      "\n",
      "\tDiscFac: 0.96\n",
      "\tLivPrb: 1.0\n",
      "\tCRRA: 2.0\n",
      "\tRfree: 1.04\n",
      "\tPermGroFac: 1.03\n",
      "\tIncShkDstn: <HARK.distribution.DiscreteDistribution object at 0x7fe9b0a0e940>\n",
      "\tpermShkDstn: <HARK.distribution.DiscreteDistribution object at 0x7fe9b09e74c0>\n",
      "\ttranShkDstn: <HARK.distribution.DiscreteDistribution object at 0x7fe980b52910>\n",
      "\tBoroCnstArt: None\n",
      "\tMaxKinks: None\n",
      "\tsolverType: HARK\n",
      "\tsolveMethod: EGM\n",
      "\teventTiming: EOP\n",
      "\thorizon: infinite\n",
      "\targs: ()\n",
      "\n",
      "The model's transition equations are:\n",
      "\n",
      "chosen_to_next_choice step:\n",
      "\tkNrm = aNrm\n",
      "\tRNrm = Rfree / (PermGroFac * permShk)\n",
      "\tbNrm = kNrm * RNrm\n",
      "\tyNrm = tranShk\n",
      "\tmNrm = bNrm + yNrm\n",
      "\n",
      "choice_to_chosen step:\n",
      "\taNrm = mNrm - cNrm\n",
      "\n",
      "\n",
      "Because messaging_level is >= logging.INFO, infinite horizon conditions are reported below:\n",
      "\n",
      "\n",
      "The Absolute Patience Factor, APF=0.99920 satisfies the Absolute Impatience Condition (AIC), APF < 1:\n",
      "    https://econ-ark.github.io/BufferStockTheory/#AIC\n",
      "\n",
      "    Because the APF < 1,  the absolute amount of consumption is expected to fall over time.  \n",
      "\n",
      "\n",
      "The Finite Human Wealth Factor, FHWF=0.99038 satisfies the Finite Human Wealth Condition (FHWC), FHWF < 1:\n",
      "    https://econ-ark.github.io/BufferStockTheory/#FHWC\n",
      "\n",
      "    Therefore, the limiting consumption function is not c(m)=Infinity.\n",
      "  Human wealth normalized by permanent income is 104.00000.\n",
      "\n",
      "\n",
      "The Return Patience Factor, RPF=0.96077 satisfies the Return Impatience Condition (RIC), RPF < 1:\n",
      "    https://econ-ark.github.io/BufferStockTheory/#RPF\n",
      "\n",
      "    Therefore, the limiting consumption function is not c(m)=0 for all m\n",
      "\n",
      "\n",
      "The Growth Patience Factor, GPF=0.97010 satisfies the Growth Impatience Condition (GIC), GPF < 1:\n",
      "    https://econ-ark.github.io/BufferStockTheory/#GICRaw\n",
      "\n",
      "    Therefore, for a perfect foresight consumer, the ratio of individual wealth to permanent income is expected to fall indefinitely.    \n",
      "\n",
      "\n",
      "The Normalized Growth Patience Factor GPFNrm, GPFNrm=1.00697 violates the Normalized Growth Impatience Condition (GICNrm), GPFNrm < 1:\n",
      "    https://econ-ark.github.io/BufferStockTheory/#GICNrm\n",
      "\n",
      "    Therefore, a target ratio of individual market resources to individual permanent income does not exist.  \n",
      "\n",
      "\n",
      "The Normalized Growth Patience Factor GPFNrm, GPFNrm=1.00697 violates the Normalized Growth Impatience Condition (GICNrm), GPFNrm < 1:\n",
      "    https://econ-ark.github.io/BufferStockTheory/#GICNrm\n",
      "    Therefore, a target ratio of individual market resources to individual permanent income does not exist.  \n",
      "\n",
      "\n",
      "The Mortality Adjusted Aggregate Growth Patience Factor, GPFLiv=0.97010 satisfies the Mortality Adjusted Aggregate Growth Impatience Condition (GICLiv):\n",
      "    https://econ-ark.github.io/BufferStockTheory/#GPFLiv\n",
      "\n",
      "    Therefore, a target level of the ratio of aggregate market resources to aggregate permanent income exists.\n",
      "https://econ-ark.github.io/BufferStockTheory/#GPFLiv\n",
      "\n",
      "\n",
      "The Finite Value of Autarky Factor, FVAF=0.96000 satisfies the Finite Value of Autarky Condition, FVAF < 1:\n",
      "    https://econ-ark.github.io/BufferStockTheory/#FVAC\n",
      "\n",
      "    Therefore, a nondegenerate solution exists if the RIC also holds. (https://econ-ark.github.io/BufferStockTheory/#FVAC)\n",
      "\n"
     ]
    },
    {
     "name": "stdout",
     "output_type": "stream",
     "text": [
      "....\n",
      "distance_now < distance_original: True\n"
     ]
    }
   ],
   "source": [
    "# Solve the model for these parameter values\n",
    "GICNrmFailsButGICRawHolds.tolerance = 0.01\n",
    "\n",
    "GICNrmFailsButGICRawHolds.solve(quietly=True)  # Suppress output\n",
    "\n",
    "# Because we are trying to solve a problem very close to the critical patience\n",
    "# values, we want to do it with extra precision to be sure we've gotten the\n",
    "# answer right.  We can retrieve the distance between the last two solutions:\n",
    "\n",
    "distance_original = GICNrmFailsButGICRawHolds.solution[0].distance_last\n",
    "\n",
    "# But high precision would have slowed things down if we used it from the start\n",
    "\n",
    "# Instead, we can take the solution obtained above, and continue it but with\n",
    "# parameters that will yield a more precise answer:\n",
    "\n",
    "# Solve with quadruple the normal range\n",
    "GICNrmFailsButGICRawHolds.aXtraMax = GICNrmFailsButGICRawHolds.aXtraMax * 10\n",
    "\n",
    "# Solve over four times as many gridpoints\n",
    "GICNrmFailsButGICRawHolds.aXtraCount = GICNrmFailsButGICRawHolds.aXtraCount * 4\n",
    "\n",
    "GICNrmFailsButGICRawHolds.update_assets_grid()\n",
    "\n",
    "# Solve to a 10 times tighter degree of error tolerance\n",
    "GICNrmFailsButGICRawHolds.tolerance = GICNrmFailsButGICRawHolds.tolerance/10\n",
    "\n",
    "# When the solver reaches its tolerance threshold, it changes the solver\n",
    "# attribute stge_kind to have 'iter_status' of 'finished'\n",
    "# If we want to continue the solution (having changed something, as above)\n",
    "# To continue the solution from where we left off, we just change the\n",
    "# 'iter_status' to 'iterator' and tell it to \".solve()\" again\n",
    "\n",
    "GICNrmFailsButGICRawHolds.solution[0].stge_kind['iter_status'] = 'iterator'\n",
    "# continue solving\n",
    "\n",
    "# Setting messaging_level to NOTSET prints all info including progress\n",
    "GICNrmFailsButGICRawHolds.solve(messaging_level=logging.NOTSET, quietly=False)\n",
    "\n",
    "# Test whether the new solution meets a tighter tolerance than before:\n",
    "distance_now = GICNrmFailsButGICRawHolds.solution[0].distance_last\n",
    "print('\\ndistance_now < distance_original: ' +\n",
    "      str(distance_now < distance_original))\n",
    "\n",
    "# Again increase the range\n",
    "GICNrmFailsButGICRawHolds.aXtraMax = GICNrmFailsButGICRawHolds.aXtraMax * 10\n",
    "\n",
    "# and gridpoints\n",
    "GICNrmFailsButGICRawHolds.aXtraCount = GICNrmFailsButGICRawHolds.aXtraCount * 2\n",
    "\n",
    "GICNrmFailsButGICRawHolds.update_assets_grid()\n",
    "\n",
    "# and decrease error tolerance\n",
    "GICNrmFailsButGICRawHolds.tolerance = GICNrmFailsButGICRawHolds.tolerance/10\n",
    "\n",
    "\n",
    "GICNrmFailsButGICRawHolds.solution[0].stge_kind['iter_status'] = 'iterator'\n",
    "# continue solving\n",
    "GICNrmFailsButGICRawHolds.solve(messaging_level=logging.DEBUG, quietly=False)\n",
    "\n",
    "# Test whether the new solution meets a tighter tolerance than before:\n",
    "distance_now = GICNrmFailsButGICRawHolds.solution[0].distance_last\n",
    "print('\\ndistance_now < distance_original: ' +\n",
    "      str(distance_now < distance_original))"
   ]
  },
  {
   "cell_type": "markdown",
   "id": "08ef28a6-96ac-48d3-90fc-ba98c27486ce",
   "metadata": {},
   "source": [
    "`# Plot the results:`"
   ]
  },
  {
   "cell_type": "code",
   "execution_count": 9,
   "id": "2c8c7f33",
   "metadata": {
    "jupyter": {
     "source_hidden": true
    },
    "lines_to_next_cell": 2,
    "tags": []
   },
   "outputs": [
    {
     "name": "stdout",
     "output_type": "stream",
     "text": [
      "\n",
      "Saving figure GICNrmFailsButGICRawHolds in ./Figures\n"
     ]
    },
    {
     "data": {
      "image/png": "[encoded data removed]",
      "text/plain": [
       "<Figure size 864x576 with 1 Axes>"
      ]
     },
     "metadata": {},
     "output_type": "display_data"
    },
    {
     "name": "stdout",
     "output_type": "stream",
     "text": [
      "\n",
      "Finite mNrmStE but infinite mNrmTrg\n"
     ]
    }
   ],
   "source": [
    "# Plot GICNrmFailsButGICRawHolds\n",
    "\n",
    "soln = GICNrmFailsButGICRawHolds.solution[0]  # Short alias for solution\n",
    "\n",
    "Bilt, Pars, E_tp1_ = soln.Bilt, soln.Pars, soln.E_Next_\n",
    "cFunc = Bilt.cFunc\n",
    "\n",
    "fig, ax = plt.subplots(figsize=(12, 8))\n",
    "\n",
    "[xMin, xMax] = [0.0, 8.0]\n",
    "yMin = 0.0\n",
    "yMax = E_tp1_.c_where_E_Next_m_tp1_minus_m_t_eq_0(xMax)*1.3\n",
    "\n",
    "mPltVals = np.linspace(xMin, xMax, mPts)\n",
    "\n",
    "if latexExists:\n",
    "    c_Stable_Ind_txt = \"$\\Ex_{t}[\\Delta m_{t+1}] = 0$\"\n",
    "    c_Stable_Agg_txt = \"$\\Ex_{t}[{\\mathbf{m}}_{t+1}/{\\mathbf{m}}_{t}] = \\PermGroFac$\"\n",
    "else:\n",
    "    c_Stable_Ind_txt = \"$\\mathsf{E}_{t}[\\Delta m_{t+1}] = 0$\"\n",
    "    c_Stable_Agg_txt = \"$\\mathsf{E}_{t}[\\mathbf{m}_{t+1}/\\mathbf{m}_{t}] = \\Gamma$\"\n",
    "\n",
    "cVals_Lmting_color = \"black\"\n",
    "c_Stable_Agg_color = \"black\"  # \"blue\"\n",
    "c_Stable_Ind_color = \"black\"  # \"red\"\n",
    "\n",
    "cVals_Lmting = cFunc(mPltVals)\n",
    "c_Stable_Ind = E_tp1_.c_where_E_Next_m_tp1_minus_m_t_eq_0(mPltVals)\n",
    "c_Stable_Agg = E_tp1_.c_where_E_Next_permGroShk_times_m_tp1_minus_m_t_eq_0(\n",
    "    mPltVals)\n",
    "\n",
    "cVals_Lmting_lbl, = ax.plot(mPltVals, cVals_Lmting, color=cVals_Lmting_color)\n",
    "c_Stable_Ind_lbl, = ax.plot(mPltVals, c_Stable_Ind,\n",
    "                            color=c_Stable_Ind_color, linestyle=\"dashed\", label=c_Stable_Ind_txt)\n",
    "c_Stable_Agg_lbl, = ax.plot(mPltVals, c_Stable_Agg,\n",
    "                            color=c_Stable_Agg_color, linestyle=\"dotted\", label=c_Stable_Agg_txt)\n",
    "\n",
    "ax.set_xlim(xMin, xMax)\n",
    "ax.set_ylim(yMin, yMax)\n",
    "ax.set_xlabel(\"$\\mathit{m}$\", fontweight='bold', fontsize=fsmid, loc=\"right\")\n",
    "ax.set_ylabel(\"$\\mathit{c}$\", fontweight='bold', fontsize=fsmid, loc=\"top\", rotation=0)\n",
    "\n",
    "ax.tick_params(labelbottom=False, labelleft=False, left='off',\n",
    "               right='off', bottom='off', top='off')\n",
    "\n",
    "ax.legend(handles=[c_Stable_Ind_lbl, c_Stable_Agg_lbl])\n",
    "ax.legend(prop=dict(size=fsmid))\n",
    "\n",
    "mNrmStE = Bilt.mNrmStE\n",
    "cNrmStE = c_Stable_Agg = cFunc(mNrmStE)\n",
    "\n",
    "ax.plot(mNrmStE, cNrmStE, marker=\".\", markersize=15, color=\"black\")  # Dot at StE point\n",
    "ax.text(1, 0.6, \"$\\mathrm{c}(m_{t})$\", fontsize=fsmid)  # label cFunc\n",
    "\n",
    "if latexExists:\n",
    "    ax.text(mNrmStE+0.02, cNrmStE-0.10, r\"$\\nwarrow$\", fontsize=fsmid)\n",
    "    ax.text(mNrmStE+0.25, cNrmStE-0.18, r\"$\\StE{m}~$\", fontsize=fsmid)\n",
    "else:\n",
    "    ax.text(mNrmStE+0.02, cNrmStE-0.10, r\"$\\nwarrow$\", fontsize=fsmid)\n",
    "    ax.text(mNrmStE+0.25, cNrmStE-0.18, r\"$\\check{m}~$\", fontsize=fsmid)\n",
    "\n",
    "makeFig('GICNrmFailsButGICRawHolds')\n",
    "print('Finite mNrmStE but infinite mNrmTrg')"
   ]
  },
  {
   "cell_type": "markdown",
   "id": "b96dbb93",
   "metadata": {},
   "source": [
    "In the [interactive dashboard](#interactive-dashboard), see what happens as changes in the time preference rate (or changes in risk $\\permShkStd$) change the consumer from _normalized-growth-patient_ $(\\APF > \\tilde{\\PermGroFac})$ to _normalized-growth-impatient_ ($\\APF < \\tilde{\\PermGroFac}$)"
   ]
  },
  {
   "cell_type": "markdown",
   "id": "1037a62b",
   "metadata": {},
   "source": [
    "As a foundation for the remaining figures, we define another instance of the class $\\texttt{IndShockConsumerType}$, which has the same parameter values as the instance $\\texttt{baseAgent}$ defined previously but is solved to convergence (our definition of an infinite horizon agent type) instead of only 100 periods"
   ]
  },
  {
   "cell_type": "markdown",
   "id": "20b11381-b483-438a-af41-964a2d174f76",
   "metadata": {},
   "source": [
    "`# Construct infinite horizon solution for consumer with baseline parameters:`"
   ]
  },
  {
   "cell_type": "code",
   "execution_count": 10,
   "id": "94a17754",
   "metadata": {
    "collapsed": true,
    "jupyter": {
     "outputs_hidden": true,
     "source_hidden": true
    },
    "lines_to_next_cell": 2,
    "tags": []
   },
   "outputs": [
    {
     "name": "stderr",
     "output_type": "stream",
     "text": [
      "\n",
      "The Absolute Patience Factor, APF=0.99920 satisfies the Absolute Impatience Condition (AIC), APF < 1:\n",
      "    https://econ-ark.github.io/BufferStockTheory/#AIC\n",
      "\n",
      "The Finite Human Wealth Factor, FHWF=0.99038 satisfies the Finite Human Wealth Condition (FHWC), FHWF < 1:\n",
      "    https://econ-ark.github.io/BufferStockTheory/#FHWC\n",
      "\n",
      "The Return Patience Factor, RPF=0.96077 satisfies the Return Impatience Condition (RIC), RPF < 1:\n",
      "    https://econ-ark.github.io/BufferStockTheory/#RPF\n",
      "\n",
      "The Growth Patience Factor, GPF=0.97010 satisfies the Growth Impatience Condition (GIC), GPF < 1:\n",
      "    https://econ-ark.github.io/BufferStockTheory/#GICRaw\n",
      "\n",
      "The Normalized Growth Patience Factor GPFNrm, GPFNrm=0.97920 satisfies the Normalized Growth Impatience Condition (GICNrm), GPFNrm < 1:\n",
      "    https://econ-ark.github.io/BufferStockTheory/#GICNrm\n",
      "\n",
      "The Mortality Adjusted Aggregate Growth Patience Factor, GPFLiv=0.97010 satisfies the Mortality Adjusted Aggregate Growth Impatience Condition (GICLiv):\n",
      "    https://econ-ark.github.io/BufferStockTheory/#GPFLiv\n",
      "\n",
      "The Finite Value of Autarky Factor, FVAF=0.96000 satisfies the Finite Value of Autarky Condition, FVAF < 1:\n",
      "    https://econ-ark.github.io/BufferStockTheory/#FVAC\n"
     ]
    }
   ],
   "source": [
    "# Find the infinite horizon solution\n",
    "\n",
    "base_params['aXtraCount'] = base_params['aXtraCount'] * 20\n",
    "base_params['CubicBool'] = False\n",
    "base_params['cycles'] = 0  # Default for infinite horizon model\n",
    "\n",
    "baseAgent_Inf = IndShockConsumerType(\n",
    "    **base_params,\n",
    "    horizon='infinite',  # Infinite horizon\n",
    "    quietly=True)  # construct it silently"
   ]
  },
  {
   "cell_type": "markdown",
   "id": "7bed3a76",
   "metadata": {
    "tags": []
   },
   "source": [
    "### [Expected Consumption Growth, and Permanent Income Growth](https://econ-ark.github.io/BufferStockTheory/#AnalysisoftheConvergedConsumptionFunction)\n",
    "\n",
    "The next figure, [Analysis of the Converged Consumption Function](https://econ-ark.github.io/BufferStockTheory/#cGroTargetFig), shows expected growth factors for the levels of consumption $\\cLev$ and market resources $\\mLev$ as a function of the market resources ratio $\\mNrm$ for a consumer behaving according to the converged consumption rule, along with the growth factor for $\\mNrm$ itself, and the (constant) growth factors for consumption and expected permanent income, $\\APF$ and $\\PermGroFac$.\n",
    "\n",
    "The growth factor for consumption can be computed without knowing the _level_ of the consumer's permanent income:\n",
    "\n",
    "\\begin{eqnarray*}\n",
    "\\Ex_{t}[\\cLev_{t+1}/\\cLev_{t}] & = & \\Ex_{t}\\left[\\frac{\\pLev_{t+1}\\cFunc(m_{t+1})}{\\pLev_{t}\\cFunc(m_{t})}\\right] \\\\\n",
    "% & = & \\Ex_{t}\\left[\\frac{\\PermGroFac \\permShk_{t+1} \\pLev_{t}}{\\pLev_{t}}\\frac{\\cFunc(m_{t+1})}{\\cFunc(m_{t})}\\right] \\\\\n",
    "& = & \\left[\\frac{\\PermGroFac \\permShk_{t+1} \\cFunc(m_{t+1})}{\\cFunc(m_{t})}\\right]\n",
    "\\end{eqnarray*}\n",
    "\n",
    "and similarly the growth factor for market resources is:\n",
    "\n",
    "\\begin{eqnarray*}\n",
    "\\Ex_{t}[\\mLev_{t+1}/\\mLev_{t}]\n",
    "& = & \\Ex_{t}\\left[\\frac{\\PermGroFac \\permShk_{t+1} \\mNrm_{t+1}} {\\mNrm_{t}} \\right]\n",
    "\\\\ & = & \\Ex_{t}\\left[\\frac{\\PermGroFac \\permShk_{t+1} (\\aNrm_{t}\\Rfree/(\\PermGroFac \\permShk_{t+1}))+\\PermGroFac \\permShk_{t+1}\\tranShk_{t+1}}\n",
    "{\\mNrm_{t}}\\right]\n",
    "%\\\\ & = & \\Ex_{t}\\left[\\frac{\\aNrm_{t}\\Rfree+\\tranShk_{t+1}}{\\mNrm_{t}}\\right]\n",
    "\\\\ & = & \\left[\\frac{\\aNrm_{t}\\Rfree+\\PermGroFac}{\\mNrm_{t}}\\right]\n",
    "\\end{eqnarray*}\n",
    "\n"
   ]
  },
  {
   "cell_type": "markdown",
   "id": "cc3f4d84",
   "metadata": {},
   "source": [
    "For $\\mNrm$ things are slightly more complicated:\n",
    "\\begin{eqnarray*}\n",
    "\\Ex_{t}[m_{t+1}]\n",
    "& = & \\Ex_{t}\\left[(m_{t}-c_{t})(\\Rfree/(\\permShk_{t+1}\\PermGroFac)) +\\tranShk_{t+1}\\right]\\\\\n",
    "& = & a_{t}\\Rfree\\Ex_{t}\\left[(\\permShk_{t+1}\\PermGroFac)^{-1}\\right] +1 \\\\\n",
    "\\Ex_{t}\\left[\\frac{m_{t+1}}{m_{t}}\\right] & = & \\left(\\frac{a_{t}\\Rfree\\Ex_{t}\\left[(\\permShk_{t+1}\\PermGroFac)^{-1}\\right]+1}{\\mNrm_{t}}\\right)\n",
    "\\end{eqnarray*}\n"
   ]
  },
  {
   "cell_type": "markdown",
   "id": "a9baa873-dc77-476f-8e42-a3d8faad0d67",
   "metadata": {},
   "source": [
    "`# Solve problem of consumer with baseline parameters:`"
   ]
  },
  {
   "cell_type": "code",
   "execution_count": 11,
   "id": "dcc987d1",
   "metadata": {
    "collapsed": true,
    "jupyter": {
     "outputs_hidden": true,
     "source_hidden": true
    },
    "pycharm": {
     "name": "#%%\n"
    },
    "tags": []
   },
   "outputs": [
    {
     "name": "stderr",
     "output_type": "stream",
     "text": [
      "\n",
      "The Absolute Patience Factor, APF=1.00439 violates the Absolute Impatience Condition (AIC), APF < 1:\n",
      "    https://econ-ark.github.io/BufferStockTheory/#AIC\n",
      "\n",
      "The Finite Human Wealth Factor, FHWF=0.99038 satisfies the Finite Human Wealth Condition (FHWC), FHWF < 1:\n",
      "    https://econ-ark.github.io/BufferStockTheory/#FHWC\n",
      "\n",
      "The Return Patience Factor, RPF=0.96576 satisfies the Return Impatience Condition (RIC), RPF < 1:\n",
      "    https://econ-ark.github.io/BufferStockTheory/#RPF\n",
      "\n",
      "The Growth Patience Factor, GPF=0.97514 satisfies the Growth Impatience Condition (GIC), GPF < 1:\n",
      "    https://econ-ark.github.io/BufferStockTheory/#GICRaw\n",
      "\n",
      "The Normalized Growth Patience Factor GPFNrm, GPFNrm=0.98429 satisfies the Normalized Growth Impatience Condition (GICNrm), GPFNrm < 1:\n",
      "    https://econ-ark.github.io/BufferStockTheory/#GICNrm\n",
      "\n",
      "The Mortality Adjusted Aggregate Growth Patience Factor, GPFLiv=0.97514 satisfies the Mortality Adjusted Aggregate Growth Impatience Condition (GICLiv):\n",
      "    https://econ-ark.github.io/BufferStockTheory/#GPFLiv\n",
      "\n",
      "The Finite Value of Autarky Factor, FVAF=0.97000 satisfies the Finite Value of Autarky Condition, FVAF < 1:\n",
      "    https://econ-ark.github.io/BufferStockTheory/#FVAC\n"
     ]
    },
    {
     "name": "stdout",
     "output_type": "stream",
     "text": [
      "............................................................................................................."
     ]
    },
    {
     "name": "stderr",
     "output_type": "stream",
     "text": [
      "\n",
      "(quietly=False and messaging_level < logging.WARNING, so some model information is provided below):\n",
      "\n",
      "The model has the following parameter values:\n",
      "\n",
      "\tDiscFac: 0.97\n",
      "\tLivPrb: 1.0\n",
      "\tCRRA: 2.0\n",
      "\tRfree: 1.04\n",
      "\tPermGroFac: 1.03\n",
      "\tIncShkDstn: <HARK.distribution.DiscreteDistribution object at 0x7fe9c0588460>\n",
      "\tpermShkDstn: <HARK.distribution.DiscreteDistribution object at 0x7fe9922a7a60>\n",
      "\ttranShkDstn: <HARK.distribution.DiscreteDistribution object at 0x7fe97129d550>\n",
      "\tBoroCnstArt: None\n",
      "\tMaxKinks: None\n",
      "\tsolverType: HARK\n",
      "\tsolveMethod: EGM\n",
      "\teventTiming: EOP\n",
      "\thorizon: infinite\n",
      "\targs: ()\n",
      "\n",
      "The model's transition equations are:\n",
      "\n",
      "chosen_to_next_choice step:\n",
      "\tkNrm = aNrm\n",
      "\tRNrm = Rfree / (PermGroFac * permShk)\n",
      "\tbNrm = kNrm * RNrm\n",
      "\tyNrm = tranShk\n",
      "\tmNrm = bNrm + yNrm\n",
      "\n",
      "choice_to_chosen step:\n",
      "\taNrm = mNrm - cNrm\n",
      "\n",
      "\n",
      "Because messaging_level is >= logging.INFO, infinite horizon conditions are reported below:\n",
      "\n",
      "\n",
      "The Absolute Patience Factor, APF=1.00439 violates the Absolute Impatience Condition (AIC), APF < 1:\n",
      "    https://econ-ark.github.io/BufferStockTheory/#AIC\n",
      "\n",
      "The Finite Human Wealth Factor, FHWF=0.99038 satisfies the Finite Human Wealth Condition (FHWC), FHWF < 1:\n",
      "    https://econ-ark.github.io/BufferStockTheory/#FHWC\n",
      "\n",
      "The Return Patience Factor, RPF=0.96576 satisfies the Return Impatience Condition (RIC), RPF < 1:\n",
      "    https://econ-ark.github.io/BufferStockTheory/#RPF\n",
      "\n",
      "The Growth Patience Factor, GPF=0.97514 satisfies the Growth Impatience Condition (GIC), GPF < 1:\n",
      "    https://econ-ark.github.io/BufferStockTheory/#GICRaw\n",
      "\n",
      "The Normalized Growth Patience Factor GPFNrm, GPFNrm=0.98429 satisfies the Normalized Growth Impatience Condition (GICNrm), GPFNrm < 1:\n",
      "    https://econ-ark.github.io/BufferStockTheory/#GICNrm\n",
      "\n",
      "The Mortality Adjusted Aggregate Growth Patience Factor, GPFLiv=0.97514 satisfies the Mortality Adjusted Aggregate Growth Impatience Condition (GICLiv):\n",
      "    https://econ-ark.github.io/BufferStockTheory/#GPFLiv\n",
      "\n",
      "The Finite Value of Autarky Factor, FVAF=0.97000 satisfies the Finite Value of Autarky Condition, FVAF < 1:\n",
      "    https://econ-ark.github.io/BufferStockTheory/#FVAC\n"
     ]
    },
    {
     "name": "stdout",
     "output_type": "stream",
     "text": [
      "."
     ]
    }
   ],
   "source": [
    "# Solve baseline parameters agent\n",
    "tweaked_params = deepcopy(base_params)\n",
    "tweaked_params['DiscFac'] = 0.970  # Tweak to make figure clearer\n",
    "baseAgent_Inf = IndShockConsumerType(\n",
    "    **tweaked_params, quietly=True)  # construct it silently\n",
    "\n",
    "baseAgent_Inf.solve(\n",
    "    quietly=False, messaging_level=logging.INFO)  # Solve it with info"
   ]
  },
  {
   "cell_type": "markdown",
   "id": "4c56a26f-f24e-4c5c-a96e-5979b5b36a49",
   "metadata": {},
   "source": [
    "`# Plot growth factors for various model elements at steady state:`"
   ]
  },
  {
   "cell_type": "code",
   "execution_count": 12,
   "id": "d322eb6c",
   "metadata": {
    "jupyter": {
     "source_hidden": true
    },
    "tags": []
   },
   "outputs": [
    {
     "name": "stdout",
     "output_type": "stream",
     "text": [
      "\n",
      "Saving figure cGroTargetFig in ./Figures\n"
     ]
    },
    {
     "data": {
      "image/png": "[encoded data removed]",
      "text/plain": [
       "<Figure size 864x576 with 1 Axes>"
      ]
     },
     "metadata": {
      "needs_background": "light"
     },
     "output_type": "display_data"
    },
    {
     "name": "stdout",
     "output_type": "stream",
     "text": [
      "\n"
     ]
    }
   ],
   "source": [
    "# Plot growth rates\n",
    "\n",
    "soln = baseAgent_Inf.solution[0]\n",
    "Bilt, Pars, E_Next_ = soln.Bilt, soln.Pars, soln.E_Next_\n",
    "\n",
    "# Retrieve parameters (makes code more readable)\n",
    "Rfree, DiscFac, CRRA, G = Pars.Rfree, Pars.DiscFac, Pars.CRRA, Pars.PermGroFac\n",
    "\n",
    "color_cons, color_mrktLev, color_mrktNrm, color_perm = \"blue\", \"red\", \"green\", \"black\"\n",
    "\n",
    "mPlotMin, mCalcMax, mPlotMax = 0.0, 50, 1.8\n",
    "\n",
    "# Get steady state equilibrium and target values for m\n",
    "mNrmStE, mNrmTrg = Bilt.mNrmStE, Bilt.mNrmTrg\n",
    "\n",
    "pts_num = 200  # Plot this many points\n",
    "\n",
    "m_pts = np.linspace(1, mPlotMax, pts_num)   # values of m for plot\n",
    "c_pts = soln.cFunc(m_pts)                   # values of c for plot\n",
    "a_pts = m_pts - c_pts                       # values of a\n",
    "\n",
    "# Get ingredients for calculating growth factors, then calculate them\n",
    "Ex_cLev_tp1_Over_pLev_t = [ \n",
    "    soln.E_Next_.cLev_tp1_Over_pLev_t_from_a_t(a) for a in a_pts]\n",
    "Ex_mLev_tp1_Over_pLev_t = [\n",
    "    soln.E_Next_.mLev_tp1_Over_pLev_t_from_a_t(a) for a in a_pts]\n",
    "Ex_m_tp1_from_a_t = [\n",
    "    soln.E_Next_.m_tp1_from_a_t(a) for a in a_pts]\n",
    "\n",
    "Ex_cLevGro = np.array(Ex_cLev_tp1_Over_pLev_t)/c_pts\n",
    "Ex_mLevGro = np.array(Ex_mLev_tp1_Over_pLev_t)/m_pts\n",
    "Ex_mNrmGro = np.array(Ex_m_tp1_from_a_t)/m_pts\n",
    "\n",
    "# Absolute Patience Factor = lower bound of consumption growth factor\n",
    "APF = (Rfree*DiscFac)**(1.0/CRRA)\n",
    "\n",
    "# Init figure and axes\n",
    "fig, ax = plt.subplots(figsize=(12, 8))\n",
    "plt.rcParams['font.size'], plt.rcParams['font.weight'] = fsmid, 'bold'\n",
    "\n",
    "# Plot the Absolute Patience Factor line\n",
    "ax.plot([0, mPlotMax], [APF, APF], color=color_cons)\n",
    "\n",
    "# Plot the Permanent Income Growth Factor line\n",
    "ax.plot([0, mPlotMax], [G, G]    , color=color_perm)\n",
    "\n",
    "# Plot the expected consumption growth factor\n",
    "ax.plot(m_pts, Ex_cLevGro        , color=color_cons)\n",
    "\n",
    "# Plot expected growth for the level of market resources\n",
    "ax.plot(m_pts, Ex_mLevGro        , color=color_mrktLev)\n",
    "\n",
    "# Plot expected growth for the market resources ratio\n",
    "ax.plot(m_pts, Ex_mNrmGro        , color=color_mrktNrm)\n",
    "\n",
    "# Axes limits\n",
    "GroFacMin, GroFacMax, xMin = 0.98, 1.06, 1.1\n",
    "ax.set_xlim(xMin, mPlotMax * 1.1)\n",
    "ax.set_ylim(GroFacMin, GroFacMax)\n",
    "\n",
    "Thorn = u\"\\u00DE\"\n",
    "\n",
    "# If latex installed on system, plotting can look better\n",
    "if latexExists:\n",
    "    mNrmTrg_lbl = r'$1.00 = \\Ex_{t}[\\mNrm_{t+1}/\\mNrm_{t}]:~ \\Trg{m} \\rightarrow~~$'\n",
    "    PermGro_lbl = r\"$\\PermGroFac$\"\n",
    "    cLevGro_lbl = r\"$\\Ex_{t}[\\cLev_{t+1}/\\cLev_{t}]$\"\n",
    "    mNrmGro_lbl = r\"$\\Ex_{t}[\\mNrm_{t+1}/\\mNrm_{t}] ^{\\nearrow}$\"\n",
    "    mLevGro_lbl = r\"$\\Ex_{t}[\\mLev_{t+1}/\\mLev_{t}]$\"\n",
    "    mNrmStE_lbl = r\"$\\check{\\mNrm}_{\\searrow}~$\"    \n",
    "    cLevAPF_lbl = r'$\\pmb{\\text{\\TH}} = (\\Rfree\\DiscFac)^{1/\\CRRA}$'\n",
    "else:\n",
    "    mNrmTrg_lbl = r'$\\mathsf{E}_{t}[m_{t+1}/m_{t}]:~ \\hat{m} \\rightarrow~~$'\n",
    "    PermGro_lbl = r\"$\\Gamma$\"\n",
    "    cLevGro_lbl = r\"$\\mathsf{E}_{t}[\\mathbf{c}_{t+1}/\\mathbf{c}_{t}]$\"\n",
    "    mNrmGro_lbl = r\"$\\mathsf{E}_{t}[m_{t+1}/m_{t}]^{\\nearrow}$\"\n",
    "    mLevGro_lbl = r\"$\\mathsf{E}_{t}[\\mathbf{m}_{t+1}/\\mathbf{m}_{t}]$\"\n",
    "    mNrmStE_lbl = r\"$m\\check_{\\searrow}$\"    \n",
    "    cLevAPF_lbl = Thorn + r'$= (\\mathsf{R}\\beta)^{1/\\rho}$'\n",
    "\n",
    "\n",
    "if mNrmTrg:  # Do not try to plot it if it does not exist!\n",
    "    ax.text(mNrmTrg-0.01, 1.0-0.001, \n",
    "            mNrmTrg_lbl, ha='right')\n",
    "\n",
    "ax.plot(mNrmStE, G  , marker=\".\", markersize=12, color=\"black\")  # Dot at mNrmStE \n",
    "ax.plot(mNrmTrg, 1.0, marker=\".\", markersize=12, color=\"black\")  # Dot at mNrmTrg \n",
    "\n",
    "mLevGro_lbl_xVal = mPlotMax\n",
    "mLevGro_lbl_yVal = soln.E_Next_.mLev_tp1_Over_mLev_t(mLevGro_lbl_xVal)\n",
    "\n",
    "mTrgGro_lbl_xVal = 0.92*mNrmTrg\n",
    "mTrgGro_lbl_yVal = soln.E_Next_.m_tp1_Over_m_t(mTrgGro_lbl_xVal)\n",
    "\n",
    "ax.text(mPlotMax+0.01, G-0.001,PermGro_lbl)\n",
    "ax.text(mPlotMax+0.01, Ex_cLevGro[-1]  ,cLevGro_lbl)\n",
    "ax.text(mPlotMax+0.01, APF-0.001       ,cLevAPF_lbl)\n",
    "ax.text(mNrmStE-0.06, G+0.001,mNrmStE_lbl              ,va='bottom',ha='left')\n",
    "ax.text(mTrgGro_lbl_xVal-0.01, mTrgGro_lbl_yVal-0.003,mNrmGro_lbl,va='bottom',ha='right')\n",
    "ax.text(mLevGro_lbl_xVal+0.01, mLevGro_lbl_yVal+0.001,mLevGro_lbl,va='top')\n",
    "\n",
    "# Ticks\n",
    "ax.tick_params(labelbottom=False, labelleft=True, left='off', right='on', bottom='on', top='off')\n",
    "plt.setp(ax.get_yticklabels(), fontsize=fssml)\n",
    "plt.axvline(x=mNrmTrg,label='Individual Target', linestyle='dotted')\n",
    "plt.legend()\n",
    "ax.set_ylabel('Growth Factors')\n",
    "makeFig('cGroTargetFig')"
   ]
  },
  {
   "cell_type": "markdown",
   "id": "55cafd6a",
   "metadata": {
    "tags": []
   },
   "source": [
    "### [Consumption Function Bounds](https://econ-ark.github.io/BufferStockTheory/#AnalysisOfTheConvergedConsumptionFunction)\n",
    "[The next figure](https://econ-ark.github.io/BufferStockTheory/#cFuncBounds)\n",
    "illustrates theoretical bounds for the consumption function.\n",
    "\n",
    "We define two useful variables: the lower bound of $\\tilde{\\MPC}$ (marginal propensity to consume) and the limit of $h$ (Human wealth), along with some functions such as the limiting perfect foresight consumption function $\\bar{c}(m)$, the upper bound function $\\bar{\\bar c}(m)$, and the lower bound function $\\tilde{c}$(m)."
   ]
  },
  {
   "cell_type": "markdown",
   "id": "13b45341-f6ce-42e2-8435-12e9413689a5",
   "metadata": {
    "tags": []
   },
   "source": [
    "`# Define bounds for figure:`"
   ]
  },
  {
   "cell_type": "code",
   "execution_count": 13,
   "id": "67fbcf87",
   "metadata": {
    "collapsed": true,
    "jupyter": {
     "outputs_hidden": true,
     "source_hidden": true
    },
    "tags": []
   },
   "outputs": [
    {
     "name": "stderr",
     "output_type": "stream",
     "text": [
      "\n",
      "The Absolute Patience Factor, APF=0.99920 satisfies the Absolute Impatience Condition (AIC), APF < 1:\n",
      "    https://econ-ark.github.io/BufferStockTheory/#AIC\n",
      "\n",
      "The Finite Human Wealth Factor, FHWF=0.99038 satisfies the Finite Human Wealth Condition (FHWC), FHWF < 1:\n",
      "    https://econ-ark.github.io/BufferStockTheory/#FHWC\n",
      "\n",
      "The Return Patience Factor, RPF=0.96077 satisfies the Return Impatience Condition (RIC), RPF < 1:\n",
      "    https://econ-ark.github.io/BufferStockTheory/#RPF\n",
      "\n",
      "The Growth Patience Factor, GPF=0.97010 satisfies the Growth Impatience Condition (GIC), GPF < 1:\n",
      "    https://econ-ark.github.io/BufferStockTheory/#GICRaw\n",
      "\n",
      "The Normalized Growth Patience Factor GPFNrm, GPFNrm=0.97920 satisfies the Normalized Growth Impatience Condition (GICNrm), GPFNrm < 1:\n",
      "    https://econ-ark.github.io/BufferStockTheory/#GICNrm\n",
      "\n",
      "The Mortality Adjusted Aggregate Growth Patience Factor, GPFLiv=0.97010 satisfies the Mortality Adjusted Aggregate Growth Impatience Condition (GICLiv):\n",
      "    https://econ-ark.github.io/BufferStockTheory/#GPFLiv\n",
      "\n",
      "The Finite Value of Autarky Factor, FVAF=0.96000 satisfies the Finite Value of Autarky Condition, FVAF < 1:\n",
      "    https://econ-ark.github.io/BufferStockTheory/#FVAC\n",
      "\n",
      "The Absolute Patience Factor, APF=0.99920 satisfies the Absolute Impatience Condition (AIC), APF < 1:\n",
      "    https://econ-ark.github.io/BufferStockTheory/#AIC\n",
      "\n",
      "    Because the APF < 1,  the absolute amount of consumption is expected to fall over time.  \n",
      "\n",
      "\n",
      "The Finite Human Wealth Factor, FHWF=0.99038 satisfies the Finite Human Wealth Condition (FHWC), FHWF < 1:\n",
      "    https://econ-ark.github.io/BufferStockTheory/#FHWC\n",
      "\n",
      "    Therefore, the limiting consumption function is not c(m)=Infinity.\n",
      "  Human wealth normalized by permanent income is 104.00000.\n",
      "\n",
      "\n",
      "The Return Patience Factor, RPF=0.96077 satisfies the Return Impatience Condition (RIC), RPF < 1:\n",
      "    https://econ-ark.github.io/BufferStockTheory/#RPF\n",
      "\n",
      "    Therefore, the limiting consumption function is not c(m)=0 for all m\n",
      "\n",
      "\n",
      "The Growth Patience Factor, GPF=0.97010 satisfies the Growth Impatience Condition (GIC), GPF < 1:\n",
      "    https://econ-ark.github.io/BufferStockTheory/#GICRaw\n",
      "\n",
      "    Therefore, for a perfect foresight consumer, the ratio of individual wealth to permanent income is expected to fall indefinitely.    \n",
      "\n",
      "\n",
      "The Normalized Growth Patience Factor GPFNrm, GPFNrm=0.97920 satisfies the Normalized Growth Impatience Condition (GICNrm), GPFNrm < 1:\n",
      "    https://econ-ark.github.io/BufferStockTheory/#GICNrm\n",
      "\n",
      "    Therefore, a target level of the individual market resources ratio m exists.\n",
      "\n",
      "The Mortality Adjusted Aggregate Growth Patience Factor, GPFLiv=0.97010 satisfies the Mortality Adjusted Aggregate Growth Impatience Condition (GICLiv):\n",
      "    https://econ-ark.github.io/BufferStockTheory/#GPFLiv\n",
      "\n",
      "    Therefore, a target level of the ratio of aggregate market resources to aggregate permanent income exists.\n",
      "https://econ-ark.github.io/BufferStockTheory/#GPFLiv\n",
      "\n",
      "\n",
      "The Finite Value of Autarky Factor, FVAF=0.96000 satisfies the Finite Value of Autarky Condition, FVAF < 1:\n",
      "    https://econ-ark.github.io/BufferStockTheory/#FVAC\n",
      "\n",
      "    Therefore, a nondegenerate solution exists if the RIC also holds. (https://econ-ark.github.io/BufferStockTheory/#FVAC)\n",
      "\n"
     ]
    }
   ],
   "source": [
    "# Define mpc_Min, h_inf and PF consumption function, upper and lower bound of c function\n",
    "\n",
    "baseAgent_Inf = IndShockConsumerType(**base_params, quietly=True)  # construct it silently\n",
    "baseAgent_Inf.solve(quietly=True)  # Solve it with info\n",
    "soln = baseAgent_Inf.solution[0]\n",
    "\n",
    "UnempPrb = Pars.IncShkDstn.parameters['UnempPrb']\n",
    "\n",
    "# Return Patience Factor\n",
    "RPF = ((Rfree * DiscFac)**(1.0/CRRA)/Rfree)\n",
    "\n",
    "mpc_Min = 1.0-RPF\n",
    "mpc_Max = 1.0 - (UnempPrb**(1/CRRA)) * RPF\n",
    "h_inf = (1.0/(1.0-G/Rfree))\n",
    "\n",
    "\n",
    "def cFunc_Uncnst(m): return mpc_Min * m + (h_inf - 1) * mpc_Min\n",
    "def cFunc_TopBnd(m): return mpc_Max * m\n",
    "def cFunc_BotBnd(m): return mpc_Min * m"
   ]
  },
  {
   "cell_type": "markdown",
   "id": "66e16d73-8f71-492d-9e18-ea8a154eaa21",
   "metadata": {},
   "source": [
    "`# Plot figure showing bounds`"
   ]
  },
  {
   "cell_type": "code",
   "execution_count": 14,
   "id": "597ccdeb",
   "metadata": {
    "jupyter": {
     "source_hidden": true
    },
    "lines_to_next_cell": 2,
    "tags": []
   },
   "outputs": [
    {
     "name": "stdout",
     "output_type": "stream",
     "text": [
      "\n",
      "Saving figure cFuncBounds in ./Figures\n"
     ]
    },
    {
     "data": {
      "image/png": "[encoded data removed]",
      "text/plain": [
       "<Figure size 864x576 with 1 Axes>"
      ]
     },
     "metadata": {},
     "output_type": "display_data"
    },
    {
     "name": "stdout",
     "output_type": "stream",
     "text": [
      "\n"
     ]
    }
   ],
   "source": [
    "# Plot the consumption function and its bounds\n",
    "\n",
    "cMaxLabel = r'$\\overline{c}(m)= (m-1+h)\\tilde{\\kappa}$'\n",
    "cMinLabel = r'Lower Bound: $\\tilde{c}(m)= (1-\\pmb{\\text{\\TH}}_{R})\\tilde{\\kappa}m$'\n",
    "if not latexExists:\n",
    "    cMaxLabel = r'$\\bar{c}(m) = (m-1+h)\\kappa$'  # Use unicode kludge\n",
    "    cMinLabel = r'Lower Bound: c̲$(m)= (1-$'+Thorn+r'$_{R})m = \\kappa m$'\n",
    "\n",
    "mPlotMin = 0.0\n",
    "mPlotMax = 25\n",
    "# mKnk is point where the two upper bounds meet\n",
    "mKnk = ((h_inf-1) * mpc_Min)/((1 - UnempPrb**(1.0/CRRA)*(Rfree*DiscFac)**(1.0/CRRA)/Rfree)-mpc_Min)\n",
    "mBelwKnkPts = 300\n",
    "mAbveKnkPts = 700\n",
    "mBelwKnk = np.linspace(mPlotMin, mKnk, mBelwKnkPts)\n",
    "mAbveKnk = np.linspace(mKnk, mPlotMax, mAbveKnkPts)\n",
    "mFullPts = np.linspace(mPlotMin, mPlotMax, mBelwKnkPts+mAbveKnkPts)\n",
    "\n",
    "plt.figure(figsize=(12, 8))\n",
    "cTopMult = 1.12\n",
    "plt.plot(mFullPts, soln.cFunc(mFullPts), color=\"black\")\n",
    "plt.plot(mBelwKnk, cFunc_Uncnst(mBelwKnk), color=\"black\", linestyle=\"--\")\n",
    "plt.plot(mAbveKnk, cFunc_Uncnst(mAbveKnk), color=\"black\", linewidth=2.5)\n",
    "plt.plot(mBelwKnk, cFunc_TopBnd(mBelwKnk), color=\"black\", linewidth=2.5)\n",
    "plt.plot(mAbveKnk, cFunc_TopBnd(mAbveKnk), color=\"black\", linestyle=\"--\")\n",
    "plt.plot(mBelwKnk, cFunc_BotBnd(mBelwKnk), color=\"black\", linewidth=2.5)\n",
    "plt.plot(mAbveKnk, cFunc_BotBnd(mAbveKnk), color=\"black\", linewidth=2.5)\n",
    "plt.tick_params(labelbottom=False, labelleft=False, left='off',\n",
    "                right='off', bottom='off', top='off')\n",
    "plt.xlim(mPlotMin, mPlotMax)\n",
    "plt.ylim(mPlotMin, cTopMult*cFunc_Uncnst(mPlotMax))\n",
    "plt.text(mPlotMin, cTopMult*cFunc_Uncnst(mPlotMax)+0.05, \"$c$\", fontsize=22)\n",
    "plt.text(mPlotMax+0.1, mPlotMin, \"$m$\", fontsize=22)\n",
    "plt.text(2.5, 1, r'$c(m)$', fontsize=22, fontweight='bold')\n",
    "upper_upper_bound_m = 4.6\n",
    "if latexExists:\n",
    "    plt.text(upper_upper_bound_m+0.1, cFunc_TopBnd(upper_upper_bound_m), r'$~\\leftarrow \\overline{\\overline{c}}(m)= \\overline{\\MPC}m = (1-\\UnempPrb^{1/\\CRRA}\\pmb{\\text{\\TH}}_{R})m$',\n",
    "             fontsize=22, fontweight='bold')\n",
    "else:\n",
    "    plt.text(6, 5, r'$\\overline{\\overline{c}}(m)= \\overline{\\kappa}m = (1-\\wp^{1/\\rho}$'+Thorn+'$_{R})m$',\n",
    "             fontsize=22, fontweight='bold')\n",
    "upper_bound_m = 12\n",
    "plt.text(\n",
    "    upper_bound_m, cFunc_Uncnst(upper_bound_m)-0.3, r'Upper Bound $ = $ Min $[\\overline{\\overline{c}}(m),\\overline{c}(m)]$', fontsize=22, fontweight='bold')\n",
    "plt.text(8, 0.9, cMinLabel, fontsize=22, fontweight='bold')\n",
    "lower_unc_bound_m = 1.7\n",
    "lower_unc_bound_c = cFunc_Uncnst(lower_unc_bound_m)-0.2\n",
    "plt.text(lower_unc_bound_m, lower_unc_bound_c-0.2, cMaxLabel, fontsize=22, fontweight='bold')\n",
    "plt.arrow(2.45, 1.05, -0.5, 0.02, head_width=0.05, width=0.001,\n",
    "          facecolor='black', length_includes_head='True')\n",
    "plt.arrow(lower_unc_bound_m, lower_unc_bound_c, -0.5, 0.1, head_width=0.05, width=0.001,\n",
    "          facecolor='black', length_includes_head='True')\n",
    "plt.arrow(upper_bound_m, cFunc_Uncnst(upper_bound_m)-0.2, -0.8, 0.05, head_width=0.1, width=0.015,\n",
    "          facecolor='black', length_includes_head='True')\n",
    "unconst_m = 4.5\n",
    "plt.arrow(5.95, 5.05, -0.4, mPlotMin, head_width=0.05, width=0.001,\n",
    "          facecolor='black', length_includes_head='True')\n",
    "plt.arrow(14, 0.70, 0.5, -0.1, head_width=0.05, width=0.001,\n",
    "          facecolor='black', length_includes_head='True')\n",
    "\n",
    "makeFig('cFuncBounds')"
   ]
  },
  {
   "cell_type": "markdown",
   "id": "e2276314",
   "metadata": {},
   "source": [
    "### [Upper and Lower Limits of the Marginal Propensity to Consume](https://econ-ark.github.io/BufferStockTheory/#MPCLimits)\n",
    "\n",
    "The paper shows that as $m_{t}~\\uparrow~\\infty$ the consumption function in the presence of risk gets arbitrarily close to the perfect foresight consumption function.  Defining $\\tilde{κ}$\n",
    "as the perfect foresight model's MPC, this implies that $\\lim_{m_{t}~\\uparrow~\\infty} c^{\\prime}(m) = \\tilde{\\kappa}$.\n",
    "\n",
    "The paper also derives an analytical limit $\\bar{\\MPC}$ for the MPC as $m$ approaches 0., its bounding value.  Strict concavity of the consumption function implies that the consumption function will be everywhere below a function $\\bar{\\MPC}m$, and strictly declining everywhere.  The last figure plots the MPC between these two limits."
   ]
  },
  {
   "cell_type": "markdown",
   "id": "3c67324f-64c5-466d-bb2f-25100362cca9",
   "metadata": {},
   "source": [
    "`# Make and plot figure showing the upper and lower limites of the MPC:`"
   ]
  },
  {
   "cell_type": "code",
   "execution_count": 15,
   "id": "ef81dd9c",
   "metadata": {
    "jupyter": {
     "source_hidden": true
    },
    "lines_to_next_cell": 2,
    "tags": []
   },
   "outputs": [
    {
     "name": "stdout",
     "output_type": "stream",
     "text": [
      "\n",
      "Saving figure MPCLimits in ./Figures\n"
     ]
    },
    {
     "data": {
      "image/png": "[encoded data removed]",
      "text/plain": [
       "<Figure size 864x576 with 1 Axes>"
      ]
     },
     "metadata": {
      "needs_background": "light"
     },
     "output_type": "display_data"
    },
    {
     "name": "stdout",
     "output_type": "stream",
     "text": [
      "\n"
     ]
    }
   ],
   "source": [
    "# The last figure shows the upper and lower limits of the MPC\n",
    "\n",
    "mPlotMax = 8\n",
    "\n",
    "plt.figure(figsize=(12, 8))\n",
    "# Set the plot range of m\n",
    "m = np.linspace(0.001, mPlotMax, mPts)\n",
    "\n",
    "# Use the HARK method derivative to get the derivative of cFunc, and which constitutes the MPC\n",
    "MPC = soln.cFunc.derivative(m)\n",
    "\n",
    "# Define the upper bound of MPC\n",
    "#mpc_Max = (1 - UnempPrb ** (1.0/CRRA)*(R*DiscFac)**(1.0/CRRA)/R)\n",
    "\n",
    "# Define the lower bound of MPC\n",
    "#MPCLower = mpc_Min\n",
    "\n",
    "kappaDef = r'$\\tilde{\\kappa}\\equiv(1-\\pmb{\\text{\\TH}}_{R})$'\n",
    "if not latexExists:\n",
    "    kappaDef = r'κ̲$\\equiv(1-$'+Thorn+'$_{R})$'\n",
    "\n",
    "plt.plot(m, MPC, color='black')\n",
    "plt.plot([mPlotMin, mPlotMax], [mpc_Max, mpc_Max], color='black')\n",
    "plt.plot([mPlotMin, mPlotMax], [mpc_Min, mpc_Min], color='black')\n",
    "plt.xlim(mPlotMin, mPlotMax)\n",
    "plt.ylim(0, 1)  # MPC bounds are between 0 and 1\n",
    "\n",
    "if latexExists:\n",
    "    plt.text(1.5, 0.6, r'$\\MPC(m) \\equiv c^{\\prime}(m)$', fontsize=26, fontweight='bold')\n",
    "    plt.text(5, 0.87, r'$(1-\\UnempPrb^{1/\\CRRA}\\pmb{\\text{\\TH}})\\equiv \\overline{\\MPC}$',\n",
    "             fontsize=26, fontweight='bold')  # Use Thorn character\n",
    "else:\n",
    "    plt.text(1.5, 0.6, r'$\\kappa(m) \\equiv c^{\\prime}(m)$', fontsize=26, fontweight='bold')\n",
    "    plt.text(5, 0.87, r'$(1-\\wp^{1/\\rho}$'+Thorn+'${R})\\equiv \\bar{\\kappa}$',\n",
    "             fontsize=26, fontweight='bold')  # Use Phi instead of Thorn (alas)\n",
    "\n",
    "plt.text(0.5, 0.07, kappaDef, fontsize=26, fontweight='bold')\n",
    "plt.text(mPlotMax+0.05, mPlotMin, \"$m$\", fontsize=26)\n",
    "plt.arrow(1.45, 0.61, -0.4, mPlotMin, head_width=0.02, width=0.001,\n",
    "          facecolor='black', length_includes_head='True')\n",
    "plt.arrow(2.2, 0.07, 0.2, -0.01, head_width=0.02, width=0.001,\n",
    "          facecolor='black', length_includes_head='True')\n",
    "plt.arrow(4.95, 0.895, -0.2, 0.03, head_width=0.02, width=0.001,\n",
    "          facecolor='black', length_includes_head='True')\n",
    "\n",
    "makeFig('MPCLimits')"
   ]
  },
  {
   "cell_type": "markdown",
   "id": "cd0e666a",
   "metadata": {},
   "source": [
    "# Summary\n",
    "\n",
    "[Two tables in the paper](https://econ-ark.github.io/BufferStockTheory/#Factors-Defined-And-Compared) summarize the various definitions, and then articulate conditions required for the problem to have a nondegenerate solution.  Among the nondegenerate cases, the most interesting result is that if the Growth Impatience Condition holds there will be a target level of wealth."
   ]
  },
  {
   "cell_type": "markdown",
   "id": "57a10916",
   "metadata": {
    "heading_collapsed": "true",
    "tags": []
   },
   "source": [
    "### Appendix: Options for Interacting With This Notebook <a id='optionsForInstalling'></a>\n",
    "\n",
    "1. [View (static version)](https://github.com/llorracc/BufferStockTheory/blob/master/Code/Python/BufferStockTheory.ipynb) on GitHub (warning:  GitHub does not render Jupyter notebooks reliably)\n",
    "1. [Launch Online Interactive Version](https://econ-ark.org/materials/BufferStockTheory/#launch)\n",
    "1. For fast (local) execution, install [econ-ark](http://github.com/econ-ark) on your computer ([QUICK START GUIDE](https://github.com/econ-ark/HARK/blob/master/README.md)) then follow these instructions to retrieve the full contents of the `BufferStockTheory` [REMARK](https://github.com/econ-ark/REMARK):\n",
    "   1. At a command line, change the working directory to the one where you want to install\n",
    "       * On unix, if you install in the `/tmp` directory, the installation will disappear after a reboot:\n",
    "       * `cd /tmp`\n",
    "   1. `git clone https://github.com/econ-ark/REMARK --recursive`\n",
    "   1. `cd REMARK/REMARKs/BufferStockTheory`\n",
    "   1. `jupyter notebook BufferStockTheory.ipynb`"
   ]
  },
  {
   "cell_type": "markdown",
   "id": "35d52480",
   "metadata": {
    "tags": []
   },
   "source": [
    "### Appendix: Perfect foresight agent failing both the FHWC and RIC"
   ]
  },
  {
   "cell_type": "code",
   "execution_count": 16,
   "id": "ec50452b",
   "metadata": {
    "collapsed": true,
    "jupyter": {
     "outputs_hidden": true,
     "source_hidden": true
    },
    "tags": []
   },
   "outputs": [
    {
     "name": "stdout",
     "output_type": "stream",
     "text": [
      "............................................................................................................................................................................................................................................................................................................................................................................."
     ]
    },
    {
     "name": "stderr",
     "output_type": "stream",
     "text": [
      "\n",
      "(quietly=False and messaging_level < logging.WARNING, so some model information is provided below):\n",
      "\n",
      "The model has the following parameter values:\n",
      "\n",
      "\tDiscFac: 1.0\n",
      "\tLivPrb: 1.0\n",
      "\tCRRA: 2\n",
      "\tRfree: 0.98\n",
      "\tPermGroFac: 0.99\n",
      "\tBoroCnstArt: 0.0\n",
      "\tMaxKinks: 400\n",
      "\tsolverType: HARK\n",
      "\tsolveMethod: EGM\n",
      "\teventTiming: EOP\n",
      "\thorizon: infinite\n",
      "\targs: ()\n",
      "\n",
      "The model's transition equations are:\n",
      "\n",
      "chosen_to_next_choice step:\n",
      "\tkNrm = aNrm\n",
      "\tRNrm = Rfree / (PermGroFac * permShk)\n",
      "\tbNrm = kNrm * RNrm\n",
      "\tyNrm = tranShk\n",
      "\tmNrm = bNrm + yNrm\n"
     ]
    },
    {
     "name": "stdout",
     "output_type": "stream",
     "text": [
      "...................................\n",
      "Saving figure PFGICRawHoldsFHWCFailsRICFails in ./Figures\n"
     ]
    },
    {
     "data": {
      "image/png": "[encoded data removed]",
      "text/plain": [
       "<Figure size 576x288 with 1 Axes>"
      ]
     },
     "metadata": {
      "needs_background": "light"
     },
     "output_type": "display_data"
    },
    {
     "name": "stdout",
     "output_type": "stream",
     "text": [
      "\n"
     ]
    }
   ],
   "source": [
    "PFGICRawHoldsFHWCFailsRICFails_par = deepcopy(init_perfect_foresight)\n",
    "\n",
    "# Replace parameters.\n",
    "PFGICRawHoldsFHWCFailsRICFails_par['Rfree'] = 0.98\n",
    "PFGICRawHoldsFHWCFailsRICFails_par['DiscFac'] = 1.0\n",
    "PFGICRawHoldsFHWCFailsRICFails_par['PermGroFac'] = [0.99]\n",
    "PFGICRawHoldsFHWCFailsRICFails_par['CRRA'] = 2\n",
    "PFGICRawHoldsFHWCFailsRICFails_par['BoroCnstArt'] = 0.0\n",
    "PFGICRawHoldsFHWCFailsRICFails_par['T_cycle'] = 1  # No seasonal cycles\n",
    "PFGICRawHoldsFHWCFailsRICFails_par['T_retire'] = 0\n",
    "PFGICRawHoldsFHWCFailsRICFails_par['cycles'] = 400  # This many periods\n",
    "PFGICRawHoldsFHWCFailsRICFails_par['MaxKinks'] = 400\n",
    "PFGICRawHoldsFHWCFailsRICFails_par['quiet'] = False\n",
    "PFGICRawHoldsFHWCFailsRICFails_par['BoroCnstArt'] = 0.0  # Borrowing constraint\n",
    "PFGICRawHoldsFHWCFailsRICFails_par['LivPrb'] = [1.0]\n",
    "\n",
    "# Create the agent\n",
    "HWRichButReturnPatientPFConstrainedAgent = \\\n",
    "    PerfForesightConsumerType(**PFGICRawHoldsFHWCFailsRICFails_par,\n",
    "                              quietly=True\n",
    "                              )\n",
    "# Solve and report on conditions\n",
    "this_agent = HWRichButReturnPatientPFConstrainedAgent\n",
    "this_agent.solve(quietly=False, messaging_level=logging.DEBUG)\n",
    "\n",
    "# Plot\n",
    "mPlotMin, mPlotMax = 1, 9.5\n",
    "plt.figure(figsize=(8, 4))\n",
    "m_grid = np.linspace(mPlotMin, mPlotMax, 500)\n",
    "plt.plot(m_grid-1, this_agent.solution[0].cFunc(m_grid), color=\"black\")\n",
    "plt.text(mPlotMax-1+0.05, 1, r\"$b$\", fontsize=26)\n",
    "plt.text(mPlotMin-1, 1.017, r\"$c$\", fontsize=26)\n",
    "plt.xlim(mPlotMin-1, mPlotMax-1)\n",
    "plt.ylim(mPlotMin, 1.016)\n",
    "\n",
    "makeFig('PFGICRawHoldsFHWCFailsRICFails')"
   ]
  }
 ],
 "metadata": {
  "jupytext": {
   "cell_metadata_filter": "ExecuteTime,autoscroll,heading_collapsed,hidden,slideshow,title,tags,jupyter,pycharm,-hide_ouput,-code_folding",
   "cell_metadata_json": true,
   "encoding": "# -*- coding: utf-8 -*-",
   "formats": "ipynb,py:percent",
   "notebook_metadata_filter": "all"
  },
  "kernelspec": {
   "display_name": "Python 3",
   "language": "python",
   "name": "python3"
  },
  "language_info": {
   "codemirror_mode": {
    "name": "ipython",
    "version": 3
   },
   "file_extension": ".py",
   "mimetype": "text/x-python",
   "name": "python",
   "nbconvert_exporter": "python",
   "pygments_lexer": "ipython3",
   "version": "3.8.8"
  },
  "latex_envs": {
   "LaTeX_envs_menu_present": true,
   "autoclose": false,
   "autocomplete": false,
   "bibliofile": "biblio.bib",
   "cite_by": "apalike",
   "current_citInitial": 1,
   "eqLabelWithNumbers": true,
   "eqNumInitial": 1,
   "hotkeys": {
    "equation": "Ctrl-E",
    "itemize": "Ctrl-I"
   },
   "labels_anchors": false,
   "latex_user_defs": false,
   "report_style_numbering": false,
   "user_envs_cfg": false
  }
 },
 "nbformat": 4,
 "nbformat_minor": 5
}
