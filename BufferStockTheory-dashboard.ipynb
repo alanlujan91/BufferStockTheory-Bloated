{
 "cells": [
  {
   "cell_type": "markdown",
   "metadata": {},
   "source": [
    "# Theoretical Foundations of Buffer Stock Saving -- Interactive Figures\n",
    "\n",
    "[![econ-ark.org](https://img.shields.io/badge/Powered%20by-Econ--ARK-3e8acc.svg)](https://econ-ark.org/materials/BufferStockTheory)"
   ]
  },
  {
   "cell_type": "code",
   "execution_count": 1,
   "metadata": {},
   "outputs": [],
   "source": [
    "# Some setup stuff\n",
    "import Dashboard.dashboard_widget as BST\n",
    "\n",
    "# Get other tools \n",
    "from ipywidgets import interact, interactive, fixed, interact_manual\n",
    "import warnings\n",
    "warnings.filterwarnings(\"ignore\")"
   ]
  },
  {
   "cell_type": "markdown",
   "metadata": {},
   "source": [
    "## Convergence of the Consumption Rules\n",
    "\n",
    "Under the given parameter values, [the paper's first figure](http://econ.jhu.edu/people/ccarroll/papers/BufferStockTheory/#Convergence-of-the-Consumption-Rules) depicts the successive consumption rules that apply in the last period of life $(c_{T}(m))$, the second-to-last period, and earlier periods $(c_{T-n})$.  $c(m)$ is the consumption function to which these converge:\n",
    "\n",
    "$$\n",
    "c(m) = \\lim_{n \\uparrow \\infty} c_{T-n}(m)\n",
    "$$\n"
   ]
  },
  {
   "cell_type": "code",
   "execution_count": 2,
   "metadata": {},
   "outputs": [
    {
     "data": {
      "application/vnd.jupyter.widget-view+json": {
       "model_id": "c1b2f00843b44781949a56352c227013",
       "version_major": 2,
       "version_minor": 0
      },
      "text/plain": [
       "interactive(children=(FloatSlider(value=0.96, continuous_update=False, description='β', max=0.99, min=0.92, re…"
      ]
     },
     "metadata": {},
     "output_type": "display_data"
    }
   ],
   "source": [
    "# Risk aversion ρ and σ have the most interesting effects\n",
    "\n",
    "cFuncsConverge_widget=interactive(\n",
    "    BST.makeConvergencePlot,\n",
    "    DiscFac=BST.DiscFac_widget[0],\n",
    "    CRRA=BST.CRRA_widget[0],\n",
    "    Rfree=BST.Rfree_widget[0],\n",
    "    PermShkStd=BST.PermShkStd_widget[0],\n",
    ")\n",
    "cFuncsConverge_widget"
   ]
  },
  {
   "cell_type": "markdown",
   "metadata": {},
   "source": [
    "## [If the GIC Fails, Target Wealth is Infinite ](http://econ.jhu.edu/people/ccarroll/papers/BufferStockTheory/#The-GIC)\n",
    "\n",
    "[A figure](http://econ.jhu.edu/people/ccarroll/papers/BufferStockTheory/#FVACnotGIC) depicts a solution when the **FVAC** [(Finite Value of Autarky Condition)](https://llorracc.github.io/BufferStockTheory/#FVAC) and **WRIC** [(Weak Return Impatience Condition)](https://llorracc.github.io/BufferStockTheory/#WRIC) hold (so that the model has a solution) but the **GIC** [(Growth Impatience Condition)](https://llorracc.github.io/BufferStockTheory/#GIC) fails:\n",
    "\n",
    "\\begin{eqnarray}\n",
    "\\mathbb{E}\\left[\\frac{\\Phi}{\\Gamma\\psi}\\right] & < & 1\n",
    "\\end{eqnarray}\n",
    "\n",
    "(see [Calibrated Parameters](https://llorracc.github.io/BufferStockTheory/#Calibration) and [Definitions and Characteristics Calculated from Parameters](https://llorracc.github.io/BufferStockTheory/#Symbols))\n",
    "\n",
    "Under the default parameter values, $\\mathbb{E}[\\psi^{-1}]=0.99$, $\\Phi = 0.999$.  Use the slider to see what happens as you move $\\Gamma$ from below to above its \"cusp\" value.  \n",
    "\n",
    "| Param | Description | Code | Value |\n",
    "| :---: | ---         | ---  | :---: |\n",
    "| Γ | Permanent Income Growth Factor | $\\texttt{PermGroFac}$ | 1.00 |\n",
    "| R | Interest Factor | $\\texttt{Rfree}$ | 1.06 |\n",
    "\n"
   ]
  },
  {
   "cell_type": "code",
   "execution_count": 3,
   "metadata": {
    "lines_to_next_cell": 2
   },
   "outputs": [
    {
     "data": {
      "application/vnd.jupyter.widget-view+json": {
       "model_id": "88fcff253af84254aecb52062294d022",
       "version_major": 2,
       "version_minor": 0
      },
      "text/plain": [
       "interactive(children=(FloatSlider(value=0.96, continuous_update=False, description='β', max=0.99, min=0.92, re…"
      ]
     },
     "metadata": {},
     "output_type": "display_data"
    }
   ],
   "source": [
    "# GICFailsExample Widget\n",
    "GICFailsExample_widget = interactive(\n",
    "    BST.makeGICFailExample,\n",
    "    DiscFac=BST.DiscFac_widget[1],\n",
    "    PermShkStd=BST.PermShkStd_widget[1],\n",
    "    UnempPrb=BST.UnempPrb_widget[1],\n",
    ")\n",
    "GICFailsExample_widget"
   ]
  },
  {
   "cell_type": "markdown",
   "metadata": {},
   "source": [
    "### [Target $m$, Expected Consumption Growth, and Permanent Income Growth](https://econ.jhu.edu/people/ccarroll/papers/BufferStockTheory/#AnalysisoftheConvergedConsumptionFunction)\n",
    "\n",
    "The next figure is shown in  [Analysis of the Converged Consumption Function](https://econ.jhu.edu/people/ccarroll/papers/BufferStockTheory/#cGroTargetFig), which shows the expected consumption growth factor $\\mathrm{\\mathbb{E}}_{t}[c_{t+1}/c_{t}]$ for a consumer behaving according to the converged consumption rule.\n"
   ]
  },
  {
   "cell_type": "code",
   "execution_count": 4,
   "metadata": {},
   "outputs": [
    {
     "data": {
      "application/vnd.jupyter.widget-view+json": {
       "model_id": "95c6b10610ef42a38435687a6ebd8ca0",
       "version_major": 2,
       "version_minor": 0
      },
      "text/plain": [
       "interactive(children=(FloatSlider(value=1.03, continuous_update=False, description='Γ', max=1.08, min=1.0, rea…"
      ]
     },
     "metadata": {},
     "output_type": "display_data"
    }
   ],
   "source": [
    "# Explore what happens as you make the consumer more patient in two ways: β ↑ and Γ ↓\n",
    "cGroTargetFig_widget = interactive(\n",
    "    BST.makeGrowthplot,\n",
    "    PermGroFac=BST.PermGroFac_widget[2],\n",
    "    DiscFac=BST.DiscFac_widget[2],\n",
    ")\n",
    "cGroTargetFig_widget"
   ]
  },
  {
   "cell_type": "markdown",
   "metadata": {},
   "source": [
    "### [Consumption Function Bounds](https://econ.jhu.edu/people/ccarroll/papers/BufferStockTheory/#AnalysisOfTheConvergedConsumptionFunction)\n",
    "[The next figure](https://econ.jhu.edu/people/ccarroll/papers/BufferStockTheory/#cFuncBounds)\n",
    "illustrates theoretical bounds for the consumption function.\n",
    "\n",
    "We define two useful variables: lower bound of $\\kappa$ (the marginal propensity to consume) and the limit of $h$ (Human wealth), along with some functions such as the limiting perfect foresight consumption function $\\bar{c}(m)$, the upper bound function $\\bar{\\bar c}(m)$, and the lower bound function \\underline{_c_}$(m)$.\n",
    "\n",
    "Recall that the Perfect Forsight Return Impatience Condition is:\n",
    "\\begin{eqnarray}\n",
    "(R \\beta)^{1/\\rho} & < & R\n",
    "\\\\ \\beta & < & R^{\\rho-1}\n",
    "\\end{eqnarray}\n",
    "\n",
    "In the figure below, we set $R$ and $\\Gamma$ to fixed values of 1.0.  Explore what happens to the consumption function as you move the parameters as far as you can toward the perfect foresight model and the time preference factor up toward 1 (warning: the model takes longer to solve if the RIC is close to failing; be patient).  What would you expect to see if the upper boundary of the figure were extended far enough?  \n",
    "\n",
    "Notice that the model with uncertainty gets very close to the perfect foresight model only when the uncertainty is tuned down to the very lowest possible levels and the time preference rate is set to a high number."
   ]
  },
  {
   "cell_type": "code",
   "execution_count": 5,
   "metadata": {
    "lines_to_next_cell": 2
   },
   "outputs": [
    {
     "data": {
      "application/vnd.jupyter.widget-view+json": {
       "model_id": "d30ebd125abf4174b066d0a6b33c62eb",
       "version_major": 2,
       "version_minor": 0
      },
      "text/plain": [
       "interactive(children=(FloatSlider(value=0.005, continuous_update=False, description='℘', max=0.05, min=5e-05, …"
      ]
     },
     "metadata": {},
     "output_type": "display_data"
    }
   ],
   "source": [
    "cFuncBounds_widget = interactive(\n",
    "    BST.makeBoundsFigure,\n",
    "    UnempPrb=BST.UnempPrb_widget[3],\n",
    "    PermShkStd=BST.PermShkStd_widget[3],\n",
    "    TranShkStd=BST.TranShkStd_widget[3],\n",
    "    DiscFac=BST.DiscFac_widget[3],\n",
    "    CRRA=BST.CRRA_widget[3]\n",
    ")\n",
    "cFuncBounds_widget"
   ]
  },
  {
   "cell_type": "markdown",
   "metadata": {},
   "source": [
    "### [The Consumption Function and Target $m$](https://econ.jhu.edu/people/ccarroll/papers/BufferStockTheory/#cFuncBounds)\n",
    "\n",
    "This figure shows the $\\mathrm{\\mathbb{E}}_{t}[\\Delta m_{t+1}]$ and consumption function $c(m_{t})$, along with the intersection of these two functions, which defines the target value of $m$.\n",
    "\n",
    "Use the sliders to explore the effects of transitory and permanent uncertainty, and of relative risk aversion ρ."
   ]
  },
  {
   "cell_type": "code",
   "execution_count": 6,
   "metadata": {
    "lines_to_next_cell": 2,
    "scrolled": true
   },
   "outputs": [
    {
     "data": {
      "application/vnd.jupyter.widget-view+json": {
       "model_id": "1cae130bfdbb4853b20fd4be0b027771",
       "version_major": 2,
       "version_minor": 0
      },
      "text/plain": [
       "interactive(children=(FloatSlider(value=1.04, continuous_update=False, description='R', max=1.08, min=1.01, re…"
      ]
     },
     "metadata": {},
     "output_type": "display_data"
    }
   ],
   "source": [
    "cRatTargetFig_widget = interactive(\n",
    "    BST.makeTargetMfig,\n",
    "    Rfree=BST.Rfree_widget[4],\n",
    "    DiscFac=BST.DiscFac_widget[4],\n",
    "    CRRA=BST.CRRA_widget[4],\n",
    "    PermShkStd=BST.PermShkStd_widget[4],\n",
    "    TranShkStd=BST.TranShkStd_widget[4],\n",
    ")\n",
    "cRatTargetFig_widget"
   ]
  },
  {
   "cell_type": "markdown",
   "metadata": {},
   "source": [
    "### [Upper and Lower Limits of the Marginal Propensity to Consume](https://econ.jhu.edu/people/ccarroll/papers/BufferStockTheory/#MPCLimits)\n",
    "\n",
    "This figure requires a very fine grid in order to capture the smooth variation in the MPC.  \n",
    "\n",
    "As a result, recomputation of the figure is too slow to be usable as a widget in real time (with current technology)."
   ]
  }
 ],
 "metadata": {
  "jupytext": {
   "cell_metadata_filter": "ExecuteTime,autoscroll,heading_collapsed,hidden,-hide_ouput,-code_folding",
   "encoding": "# -*- coding: utf-8 -*-",
   "formats": "ipynb,py:percent",
   "notebook_metadata_filter": "all"
  },
  "kernelspec": {
   "display_name": "Python 3",
   "language": "python",
   "name": "python3"
  },
  "language_info": {
   "codemirror_mode": {
    "name": "ipython",
    "version": 3
   },
   "file_extension": ".py",
   "mimetype": "text/x-python",
   "name": "python",
   "nbconvert_exporter": "python",
   "pygments_lexer": "ipython3",
   "version": "3.8.8"
  },
  "latex_envs": {
   "LaTeX_envs_menu_present": true,
   "autoclose": false,
   "autocomplete": false,
   "bibliofile": "biblio.bib",
   "cite_by": "apalike",
   "current_citInitial": 1,
   "eqLabelWithNumbers": true,
   "eqNumInitial": 1,
   "hotkeys": {
    "equation": "Ctrl-E",
    "itemize": "Ctrl-I"
   },
   "labels_anchors": false,
   "latex_user_defs": false,
   "report_style_numbering": false,
   "user_envs_cfg": false
  }
 },
 "nbformat": 4,
 "nbformat_minor": 4
}